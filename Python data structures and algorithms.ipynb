{
 "cells": [
  {
   "cell_type": "markdown",
   "id": "9b47478c-a9aa-44ac-aeaa-22ca02922cfe",
   "metadata": {},
   "source": [
    "Python Basic Programs"
   ]
  },
  {
   "cell_type": "code",
   "execution_count": 2,
   "id": "f6cb1bce-8c97-438d-b334-3db6a0729c28",
   "metadata": {},
   "outputs": [
    {
     "name": "stdout",
     "output_type": "stream",
     "text": [
      "hello world\n"
     ]
    }
   ],
   "source": [
    "print(\"hello world\")"
   ]
  },
  {
   "cell_type": "code",
   "execution_count": 2,
   "id": "23d84794-4707-4e68-8880-590a7669362d",
   "metadata": {},
   "outputs": [
    {
     "name": "stdin",
     "output_type": "stream",
     "text": [
      "Enter the first number: 5\n",
      "Enter the second number: 6\n"
     ]
    },
    {
     "name": "stdout",
     "output_type": "stream",
     "text": [
      "The result after the addition of 5 and 6 is 11\n"
     ]
    },
    {
     "name": "stdin",
     "output_type": "stream",
     "text": [
      "Enter the divisor: 3\n",
      "Enter the dividend: 6\n"
     ]
    },
    {
     "name": "stdout",
     "output_type": "stream",
     "text": [
      "The result after divinding 6 with 3 is 0.5\n"
     ]
    }
   ],
   "source": [
    "#Python program to perform arithmetic operation of addition and division\n",
    "#Addition:\n",
    "x=int(input(\"Enter the first number:\"))\n",
    "y=int(input(\"Enter the second number:\"))\n",
    "print(f\"The result after the addition of {x} and {y} is {x+y}\")\n",
    "#Division:\n",
    "m=int(input(\"Enter the divisor:\"))\n",
    "n=int(input(\"Enter the dividend:\"))\n",
    "if(m==0):\n",
    "    print(\"Division by 0 is not allowed\")\n",
    "else:\n",
    "    result=round(m/n,2)\n",
    "    print(f\"The result after divinding {n} with {m} is {result}\")"
   ]
  },
  {
   "cell_type": "code",
   "execution_count": 18,
   "id": "7af80c2b-6a90-4db0-8bc7-7208c8aa3daa",
   "metadata": {},
   "outputs": [
    {
     "name": "stdin",
     "output_type": "stream",
     "text": [
      "Enter the base of the triangle 5.2\n",
      "Enter the height of the triangle: 8.9\n"
     ]
    },
    {
     "name": "stdout",
     "output_type": "stream",
     "text": [
      "The area of the triangle with base : 5.2 and height :8.9 is 23.14\n"
     ]
    }
   ],
   "source": [
    "#Python program to find the area of the triangle\n",
    "base=float(input(\"Enter the base of the triangle\"))\n",
    "height=float(input(\"Enter the height of the triangle:\"))\n",
    "area=round(0.5*base*height,2)\n",
    "print(f\"The area of the triangle with base : {base} and height :{height} is {area}\")"
   ]
  },
  {
   "cell_type": "code",
   "execution_count": 20,
   "id": "9e83bed5-7eec-42c2-98ab-c05f595b3243",
   "metadata": {},
   "outputs": [
    {
     "name": "stdin",
     "output_type": "stream",
     "text": [
      "Enter the value of the first variable(a) 6\n",
      "Enter the value of the second variable(b) 7\n"
     ]
    },
    {
     "name": "stdout",
     "output_type": "stream",
     "text": [
      "After swap\n",
      "\n",
      "The value of the first variable is: 7\n",
      "The value of the second variable is 6\n"
     ]
    }
   ],
   "source": [
    "#Python program to swap two variables\n",
    "a=input(\"Enter the value of the first variable(a)\")\n",
    "b=input(\"Enter the value of the second variable(b)\")\n",
    "temp=a\n",
    "a=b\n",
    "b=temp\n",
    "print(\"After swap\\n\")\n",
    "print(f\"The value of the first variable is: {a}\")\n",
    "print(f\"The value of the second variable is {b}\")"
   ]
  },
  {
   "cell_type": "code",
   "execution_count": 51,
   "id": "71038c44-14f4-4d84-a339-38a533c01a43",
   "metadata": {},
   "outputs": [
    {
     "name": "stdin",
     "output_type": "stream",
     "text": [
      "Enter the value of the first variable 7\n",
      "Enter the value of the second variable 8\n"
     ]
    },
    {
     "name": "stdout",
     "output_type": "stream",
     "text": [
      "The value of variable a is 8 and the value of variable b is 7\n"
     ]
    }
   ],
   "source": [
    "#Program to swap two variables without a temp variable\n",
    "a=input(\"Enter the value of the first variable\")\n",
    "b=input(\"Enter the value of the second variable\")\n",
    "a,b=b,a\n",
    "print(f\"The value of variable a is {a} and the value of variable b is {b}\")"
   ]
  },
  {
   "cell_type": "code",
   "execution_count": 53,
   "id": "073e8400-1f5d-46fe-806b-1cb6b9c0678a",
   "metadata": {},
   "outputs": [
    {
     "name": "stdin",
     "output_type": "stream",
     "text": [
      "Enter the number: 5\n"
     ]
    },
    {
     "name": "stdout",
     "output_type": "stream",
     "text": [
      "The number is positive!\n",
      "The number is odd\n"
     ]
    }
   ],
   "source": [
    "#Program to check if a number is positive,negative or zero and the number is odd or even\n",
    "x=int(input(\"Enter the number:\"))\n",
    "if x==0:\n",
    "    print(\"The number is zero!\")\n",
    "elif x>0:\n",
    "    print(\"The number is positive!\")\n",
    "    if x%2==0:\n",
    "        print(\"The number is even\")\n",
    "    else:\n",
    "        print(\"The number is odd\")\n",
    "else:\n",
    "    print(\"The number is negative!\")\n",
    "    if x%2==0:\n",
    "        print(\"The number is even\")\n",
    "    else:\n",
    "        print(\"The number is odd\")"
   ]
  },
  {
   "cell_type": "code",
   "execution_count": 27,
   "id": "f0735542-a136-4ff2-ae11-4bcb50ea1791",
   "metadata": {},
   "outputs": [
    {
     "name": "stdout",
     "output_type": "stream",
     "text": [
      "Generated random number is : 94\n"
     ]
    }
   ],
   "source": [
    "#Program to generate a random number\n",
    "import random\n",
    "print(f\"Generated random number is : {random.randint(1,100)}\")"
   ]
  },
  {
   "cell_type": "code",
   "execution_count": 29,
   "id": "6e761814-731e-4953-8480-303fb82ec415",
   "metadata": {},
   "outputs": [
    {
     "name": "stdin",
     "output_type": "stream",
     "text": [
      "Enter the distance in kilometers: 7\n"
     ]
    },
    {
     "name": "stdout",
     "output_type": "stream",
     "text": [
      "converting 7.0 to miles we get: 4.349597 miles\n"
     ]
    }
   ],
   "source": [
    "#Program to convert kilometers to miles\n",
    "kilometers=float(input(\"Enter the distance in kilometers:\"))\n",
    "conversion_factor=0.621371\n",
    "# 1 km=0.621371 mile\n",
    "miles=conversion_factor*kilometers\n",
    "print(f\"converting {kilometers} to miles we get: {miles} miles\")\n",
    "                 "
   ]
  },
  {
   "cell_type": "code",
   "execution_count": 33,
   "id": "d80febf3-5498-409f-a7ee-628c63ee78b4",
   "metadata": {},
   "outputs": [
    {
     "name": "stdin",
     "output_type": "stream",
     "text": [
      "Enter the temperature in celcius: 37\n"
     ]
    },
    {
     "name": "stdout",
     "output_type": "stream",
     "text": [
      "The temperture in fahrenheit is 98.6\n"
     ]
    }
   ],
   "source": [
    "#Convert celcius to fahrenheit\n",
    "celcius=float(input(\"Enter the temperature in celcius:\"))\n",
    "fahrenheit=(celcius*9/5+32)\n",
    "print(f\"The temperture in fahrenheit is {fahrenheit}\")"
   ]
  },
  {
   "cell_type": "code",
   "execution_count": 39,
   "id": "832118cf-f0b8-480b-8fde-c41ef5fa7fda",
   "metadata": {},
   "outputs": [
    {
     "name": "stdin",
     "output_type": "stream",
     "text": [
      "Enter year:  2000\n",
      "Enter month:  11\n"
     ]
    },
    {
     "name": "stdout",
     "output_type": "stream",
     "text": [
      "   November 2000\n",
      "Mo Tu We Th Fr Sa Su\n",
      "       1  2  3  4  5\n",
      " 6  7  8  9 10 11 12\n",
      "13 14 15 16 17 18 19\n",
      "20 21 22 23 24 25 26\n",
      "27 28 29 30\n",
      "\n"
     ]
    }
   ],
   "source": [
    "#Python program to display calender\n",
    "import calendar\n",
    "year = int(input(\"Enter year: \"))\n",
    "month = int(input(\"Enter month: \"))\n",
    "cal = calendar.month(year, month)\n",
    "print(cal)"
   ]
  },
  {
   "cell_type": "code",
   "execution_count": 47,
   "id": "2b7430ef-4a83-43ce-9943-0d43684438a6",
   "metadata": {},
   "outputs": [
    {
     "name": "stdin",
     "output_type": "stream",
     "text": [
      "Enter the value of co-efficient a: 6\n",
      "Enter the value of co-efficient b: 8\n",
      "Enter the value of co-efficient c: 9\n"
     ]
    },
    {
     "name": "stdout",
     "output_type": "stream",
     "text": [
      "Root 1: -24.0 + 1.027 i\n",
      "Root2: -24.0 - 1.027 i\n"
     ]
    }
   ],
   "source": [
    "#Python program to solve quadratic equation\n",
    "import math\n",
    "a=float(input(\"Enter the value of co-efficient a:\"))\n",
    "b=float(input(\"Enter the value of co-efficient b:\"))\n",
    "c=float(input(\"Enter the value of co-efficient c:\"))\n",
    "#calculate the value of discriminant\n",
    "discriminant=b**2-4*a*c\n",
    "\n",
    "#check if the discriminant is positive , negative or zero\n",
    "if discriminant>0:\n",
    "    root1=(-b+math.sqrt(discriminant))/(2*a)\n",
    "    root2=(-b-math.srt(discriminant))/(2*a)\n",
    "    print(f\"The roots of the equation are: {root1} and {root2}\")\n",
    "elif discriminant==0:\n",
    "    #one real root is repeated\n",
    "    root=-b/2*a\n",
    "    print(f\"The roots of the equation are equal and the value is {root}\")\n",
    "else:\n",
    "    #complex roots\n",
    "    real_part=-b/2*a\n",
    "    imaginary_part=round((math.sqrt(abs(discriminant)))/(2*a),3)\n",
    "    print(f\"Root 1: {real_part} + {imaginary_part} i\\nRoot2: {real_part} - {imaginary_part} i\")"
   ]
  },
  {
   "cell_type": "code",
   "execution_count": 63,
   "id": "7b73de09-d5a1-4b69-837d-b0597c574199",
   "metadata": {},
   "outputs": [
    {
     "name": "stdin",
     "output_type": "stream",
     "text": [
      "Enter the year 2020\n"
     ]
    },
    {
     "name": "stdout",
     "output_type": "stream",
     "text": [
      "The 2020 is a leap year\n"
     ]
    }
   ],
   "source": [
    "#Program to check whether the year is a leap year\n",
    "year=int(input(\"Enter the year\"))\n",
    "if (year%400==0) and (year%100==0):\n",
    "    print(\"{0} is a leap year\".format(year))\n",
    "elif(year%4==0) and (year%100!=0):\n",
    "    print(\"The {0} is a leap year\".format(year))\n",
    "else:\n",
    "    print(\"The {0} is not a leap year\".format(year))\n"
   ]
  },
  {
   "cell_type": "code",
   "execution_count": 71,
   "id": "19f4bf39-eb60-40b3-abde-dd3f39abd9a7",
   "metadata": {},
   "outputs": [
    {
     "name": "stdin",
     "output_type": "stream",
     "text": [
      "Enter the number 67\n"
     ]
    },
    {
     "name": "stdout",
     "output_type": "stream",
     "text": [
      "67 is a prime number\n"
     ]
    }
   ],
   "source": [
    "#Check whether the number is a prime number or not\n",
    "num=int(input(\"Enter the number\"))\n",
    "flag=False\n",
    "if num==1:\n",
    "    print(f\"The {num} is not a prime number\")\n",
    "elif num>1:\n",
    "    for i in range(2,num):\n",
    "        if num%i==0:\n",
    "            flag=True\n",
    "            break\n",
    "if flag:\n",
    "    print(f\"{num} is not a prime number.\")\n",
    "else:\n",
    "    print(f\"{num} is a prime number\")\n",
    "    "
   ]
  },
  {
   "cell_type": "code",
   "execution_count": 83,
   "id": "cdac1655-733d-492f-a595-65e3bbd1299a",
   "metadata": {},
   "outputs": [
    {
     "name": "stdin",
     "output_type": "stream",
     "text": [
      "Enter the lower limit 1\n",
      "Enter the upper limit: 100\n"
     ]
    },
    {
     "name": "stdout",
     "output_type": "stream",
     "text": [
      "The list of prime numbers in the given range: [1, 2, 3, 5, 7, 11, 13, 17, 19, 23, 29, 31, 37, 41, 43, 47, 53, 59, 61, 67, 71, 73, 79, 83, 89, 97]\n"
     ]
    }
   ],
   "source": [
    "#Print all the prime numbers within an interval\n",
    "lower=int(input(\"Enter the lower limit\"))\n",
    "upper=int(input(\"Enter the upper limit:\"))\n",
    "a=[]\n",
    "for i in range(lower,upper+1):\n",
    "    for j in range(2,i):\n",
    "        if(i%j==0):\n",
    "            break\n",
    "    else:\n",
    "        a.append(i)\n",
    "print(f\"The list of prime numbers in the given range: {a}\")\n",
    "\n",
    "# The else block corresponds to the for loop (not the if condition).\n",
    "# If the for j in range(2, i) loop completes without encountering a break (i.e., no divisors were found), the number i is prime."
   ]
  },
  {
   "cell_type": "code",
   "execution_count": 10,
   "id": "0363cbcc-9f34-4809-81ce-e43d7c0d72c3",
   "metadata": {},
   "outputs": [
    {
     "name": "stdin",
     "output_type": "stream",
     "text": [
      "Enter the number: 5\n"
     ]
    },
    {
     "name": "stdout",
     "output_type": "stream",
     "text": [
      "Factorial of the number 5 is 120\n"
     ]
    }
   ],
   "source": [
    "#Program to find the factorial of a number:\n",
    "num=int(input(\"Enter the number:\"))\n",
    "factorial=1\n",
    "if num<0:\n",
    "    print(\"Factorial does not exists for negative numbers:\")\n",
    "elif num==0:\n",
    "    print(\"Factorial of 0 is 1\")\n",
    "else:\n",
    "    for i in range(1,num+1):\n",
    "        factorial=factorial*i\n",
    "print(f\"Factorial of the number {num} is {factorial}\")"
   ]
  },
  {
   "cell_type": "code",
   "execution_count": 12,
   "id": "3d4ccdca-2396-43a8-907e-d669ed5053f2",
   "metadata": {},
   "outputs": [
    {
     "name": "stdin",
     "output_type": "stream",
     "text": [
      "Enter the number: 7\n"
     ]
    },
    {
     "name": "stdout",
     "output_type": "stream",
     "text": [
      "The table for the given number is:\n",
      "\n",
      "7*1 : 7\n",
      "\n",
      "7*2 : 14\n",
      "\n",
      "7*3 : 21\n",
      "\n",
      "7*4 : 28\n",
      "\n",
      "7*5 : 35\n",
      "\n",
      "7*6 : 42\n",
      "\n",
      "7*7 : 49\n",
      "\n",
      "7*8 : 56\n",
      "\n",
      "7*9 : 63\n",
      "\n",
      "7*10 : 70\n",
      "\n"
     ]
    }
   ],
   "source": [
    "#Program to print multiplication table:\n",
    "num=int(input(\"Enter the number:\"))\n",
    "print(\"The table for the given number is:\\n\")\n",
    "for i in range(1,11):\n",
    "    print(f\"{num}*{i} : {num*i}\\n\")"
   ]
  },
  {
   "cell_type": "code",
   "execution_count": 14,
   "id": "87b49950-2fc1-4ade-9886-8bf7a6f470f4",
   "metadata": {},
   "outputs": [
    {
     "name": "stdin",
     "output_type": "stream",
     "text": [
      "Enter the number of terms needed: 7\n"
     ]
    },
    {
     "name": "stdout",
     "output_type": "stream",
     "text": [
      "0\n",
      "1\n",
      "1\n",
      "2\n",
      "3\n",
      "5\n",
      "8\n"
     ]
    }
   ],
   "source": [
    "#Program to generate fibonacci series\n",
    "num=int(input(\"Enter the number of terms needed:\"))\n",
    "n1=0\n",
    "n2=1\n",
    "if num<=0:\n",
    "    print(\"Please enter a positive number!\")\n",
    "elif num==0:\n",
    "    print(n1)\n",
    "# generate the fibonacci sequence\n",
    "else:\n",
    "    count=0\n",
    "    while count<num:\n",
    "        print(n1)\n",
    "        nth=n1+n2\n",
    "        n1=n2\n",
    "        n2=nth\n",
    "        count+=1"
   ]
  },
  {
   "cell_type": "code",
   "execution_count": 16,
   "id": "2397f940-b2e5-49f5-8498-03e30bdaa31a",
   "metadata": {},
   "outputs": [
    {
     "name": "stdin",
     "output_type": "stream",
     "text": [
      "Enter the number to be checked: 9474\n"
     ]
    },
    {
     "name": "stdout",
     "output_type": "stream",
     "text": [
      "The number 9474 is an armstrong number\n"
     ]
    }
   ],
   "source": [
    "#Program to check whether a particular number is an armstrong number or not\n",
    "num=int(input(\"Enter the number to be checked:\"))\n",
    "size=len(str(num))\n",
    "sum_temp=num\n",
    "sum_of_powers=0\n",
    "while sum_temp>0:\n",
    "    r=sum_temp%10\n",
    "    sum_of_powers+=(r**size)\n",
    "    sum_temp//=10\n",
    "if(sum_of_powers==num):\n",
    "    print(f\"The number {num} is an armstrong number\")\n",
    "else:\n",
    "    print(f\"The number {num} is not an armstrong number.\")"
   ]
  },
  {
   "cell_type": "code",
   "execution_count": 20,
   "id": "f944d37d-1e88-4015-bbde-061e8c0fbeb4",
   "metadata": {},
   "outputs": [
    {
     "name": "stdin",
     "output_type": "stream",
     "text": [
      "Enter the lower limit: 10\n",
      "Enter the upper limit: 1000\n"
     ]
    },
    {
     "name": "stdout",
     "output_type": "stream",
     "text": [
      "The armstrong numbers in the range 10 and 1000 are: [153, 370, 371, 407]\n"
     ]
    }
   ],
   "source": [
    "#Program to print armstrong numbers in an interval\n",
    "lower=int(input(\"Enter the lower limit:\"))\n",
    "upper=int(input(\"Enter the upper limit:\"))\n",
    "a=[]\n",
    "for i in range(lower,upper+1):\n",
    "    size=len(str(i))\n",
    "    temp=i\n",
    "    sum_of_powers=0\n",
    "    while(temp>0):\n",
    "        r=temp%10\n",
    "        sum_of_powers+=(r**size)\n",
    "        temp//=10\n",
    "    if(sum_of_powers==i):\n",
    "        a.append(i)\n",
    "    else:\n",
    "        pass\n",
    "print(f\"The armstrong numbers in the range {lower} and {upper} are: {a}\")"
   ]
  },
  {
   "cell_type": "code",
   "execution_count": 26,
   "id": "06a13b1f-17ed-43c7-8de0-99ad8afcf0ab",
   "metadata": {},
   "outputs": [
    {
     "name": "stdin",
     "output_type": "stream",
     "text": [
      "Enter the lower limit: 4\n",
      "Enter the upper limit: 80\n"
     ]
    },
    {
     "name": "stdout",
     "output_type": "stream",
     "text": [
      "The sum of the numbers in the range 4 anf 80 is 3234\n"
     ]
    }
   ],
   "source": [
    "#Program to find the sum of natural numbers:\n",
    "lower=int(input(\"Enter the lower limit:\"))\n",
    "upper=int(input(\"Enter the upper limit:\"))\n",
    "result=0\n",
    "for i in range(lower,upper+1):\n",
    "    result+=i\n",
    "print(f\"The sum of the numbers in the range {lower} anf {upper} is {result}\")"
   ]
  },
  {
   "cell_type": "code",
   "execution_count": 34,
   "id": "4f0c9808-e80b-452f-80e7-9a4f01185d9f",
   "metadata": {},
   "outputs": [
    {
     "name": "stdin",
     "output_type": "stream",
     "text": [
      "Enter the first number: 54\n",
      "Enter the second number: 24\n"
     ]
    },
    {
     "name": "stdout",
     "output_type": "stream",
     "text": [
      "The hcf of the two numbers is 6\n",
      "The lcm of the two numbers is 216.0\n"
     ]
    }
   ],
   "source": [
    "#Program to find the LCM and HCF of two numbers\n",
    "a=int(input(\"Enter the first number:\"))\n",
    "b=int(input(\"Enter the second number:\"))\n",
    "if(a<b):\n",
    "    small=a\n",
    "else:\n",
    "    small=b\n",
    "for i in range(1,small+1):\n",
    "    if((a%i==0) and (b%i==0)):\n",
    "        hcf=i\n",
    "print(f\"The hcf of the two numbers is {hcf}\")\n",
    "print(f\"The lcm of the two numbers is {a*b/hcf}\")"
   ]
  },
  {
   "cell_type": "code",
   "execution_count": 38,
   "id": "1f3eb2e4-6a7b-4506-bb08-7e606de15600",
   "metadata": {},
   "outputs": [
    {
     "name": "stdin",
     "output_type": "stream",
     "text": [
      "Enter the number: 27\n"
     ]
    },
    {
     "name": "stdout",
     "output_type": "stream",
     "text": [
      "In binary 0b11011\n",
      "In octal 0o33\n",
      "In hexadecimal 0x1b\n"
     ]
    }
   ],
   "source": [
    "# Program to convert a nnumber to binary, octal,hexadecimal\n",
    "num=int(input(\"Enter the number:\"))\n",
    "print(\"In binary {0}\".format(bin(num)))\n",
    "print(\"In octal {0}\".format(oct(num)))\n",
    "print(\"In hexadecimal {0}\".format(hex(num)))"
   ]
  },
  {
   "cell_type": "code",
   "execution_count": 2,
   "id": "581ac2e6-bb17-4024-8373-447e96194bf8",
   "metadata": {},
   "outputs": [
    {
     "name": "stdin",
     "output_type": "stream",
     "text": [
      "Enter the character: a\n"
     ]
    },
    {
     "name": "stdout",
     "output_type": "stream",
     "text": [
      "The ascii value of the character a is: 97\n"
     ]
    }
   ],
   "source": [
    "#Program to print the ascii value of a character\n",
    "character=str(input(\"Enter the character:\"))\n",
    "print(f\"The ascii value of the character {character} is: {ord(character)}\")"
   ]
  },
  {
   "cell_type": "code",
   "execution_count": 7,
   "id": "ba938f5a-ac0d-4cfb-8101-6913432908f9",
   "metadata": {},
   "outputs": [
    {
     "name": "stdout",
     "output_type": "stream",
     "text": [
      "Select operation.\n",
      "1.Add\n",
      "2.Subtract\n",
      "3.Multiply\n",
      "4.Divide\n"
     ]
    },
    {
     "name": "stdin",
     "output_type": "stream",
     "text": [
      "Enter your choice(1/2/3/4): 5\n"
     ]
    },
    {
     "name": "stdout",
     "output_type": "stream",
     "text": [
      "Invalid input\n"
     ]
    },
    {
     "name": "stdin",
     "output_type": "stream",
     "text": [
      "Enter your choice(1/2/3/4): 2\n",
      "Enter the first number: a\n"
     ]
    },
    {
     "name": "stdout",
     "output_type": "stream",
     "text": [
      "Invalid input.Please enter a valid number\n"
     ]
    },
    {
     "name": "stdin",
     "output_type": "stream",
     "text": [
      "Enter your choice(1/2/3/4): 3\n",
      "Enter the first number: 3\n",
      "Enter the second number: 7\n"
     ]
    },
    {
     "name": "stdout",
     "output_type": "stream",
     "text": [
      "The multiplicaion of 3.0 and 7.0 is 21.0\n"
     ]
    },
    {
     "name": "stdin",
     "output_type": "stream",
     "text": [
      "Do you want to proceed with the next calculation:(yes/no) yes\n",
      "Enter your choice(1/2/3/4): 9\n"
     ]
    },
    {
     "name": "stdout",
     "output_type": "stream",
     "text": [
      "Invalid input\n"
     ]
    },
    {
     "name": "stdin",
     "output_type": "stream",
     "text": [
      "Enter your choice(1/2/3/4): 2\n",
      "Enter the first number: 6\n",
      "Enter the second number: 8\n"
     ]
    },
    {
     "name": "stdout",
     "output_type": "stream",
     "text": [
      "The subtraction of 6.0 and 8.0 is -2.0\n"
     ]
    },
    {
     "name": "stdin",
     "output_type": "stream",
     "text": [
      "Do you want to proceed with the next calculation:(yes/no) no\n"
     ]
    },
    {
     "name": "stdout",
     "output_type": "stream",
     "text": [
      "Thank you for using the calculator utility\n"
     ]
    }
   ],
   "source": [
    "#Program to create a basic calculator\n",
    "def addition(a,b):\n",
    "    return a+b\n",
    "def subtraction(a,b):\n",
    "    return a-b\n",
    "def multiply(a,b):\n",
    "    return a*b\n",
    "def divide(a,b):\n",
    "    return a/b\n",
    "print(\"Select operation.\")\n",
    "print(\"1.Add\")\n",
    "print(\"2.Subtract\")\n",
    "print(\"3.Multiply\")\n",
    "print(\"4.Divide\")\n",
    "while True:\n",
    "    choice=int(input(\"Enter your choice(1/2/3/4):\"))\n",
    "    if choice in (1,2,3,4):\n",
    "        try:\n",
    "            num1=float(input(\"Enter the first number:\"))\n",
    "            num2=float(input(\"Enter the second number:\"))\n",
    "        except ValueError:\n",
    "            print(\"Invalid input.Please enter a valid number\")\n",
    "            continue\n",
    "        if (choice==1):\n",
    "            print(f\"The addition of {num1} and {num2} is {addition(num1,num2)}\")\n",
    "        elif (choice==2):\n",
    "            print(f\"The subtraction of {num1} and {num2} is {subtraction(num1,num2)}\")\n",
    "        elif (choice==3):\n",
    "            print(f\"The multiplicaion of {num1} and {num2} is {multiply(num1,num2)}\")\n",
    "        elif (choice==4):\n",
    "            print(f\"The division of {num1} and {num2} is {divide(num1,num2)}\")\n",
    "        # check if the user wants next calculation\n",
    "        check=input(\"Do you want to proceed with the next calculation:(yes/no)\")\n",
    "        if(check=='no'):\n",
    "            print(\"Thank you for using the calculator utility\")\n",
    "            break\n",
    "    else:\n",
    "        print(\"Invalid input\")"
   ]
  },
  {
   "cell_type": "code",
   "execution_count": 13,
   "id": "903a55af-e2ae-44d7-8308-2817ac321eac",
   "metadata": {},
   "outputs": [
    {
     "name": "stdin",
     "output_type": "stream",
     "text": [
      "Enter the number of terms: 7\n"
     ]
    },
    {
     "name": "stdout",
     "output_type": "stream",
     "text": [
      "The element of the fibonacci series are:\n",
      "0\n",
      "1\n",
      "1\n",
      "2\n",
      "3\n",
      "5\n",
      "8\n"
     ]
    }
   ],
   "source": [
    "#Program to print fibonacci series using recursion\n",
    "def fibonacci(n):\n",
    "    if(n<=1):\n",
    "        return n\n",
    "    else:\n",
    "        return (fibonacci(n-1)+fibonacci(n-2))\n",
    "nterms=int(input(\"Enter the number of terms:\"))\n",
    "if(nterms<=0):\n",
    "    print(\"Please enter a positive integer!\")\n",
    "else:\n",
    "    print(\"The element of the fibonacci series are:\")\n",
    "    for i in range(nterms):\n",
    "        print(fibonacci(i))"
   ]
  },
  {
   "cell_type": "code",
   "execution_count": 17,
   "id": "06e41f18-1df4-491a-b56a-52e8b53275fd",
   "metadata": {},
   "outputs": [
    {
     "name": "stdin",
     "output_type": "stream",
     "text": [
      "Enter the number for which you want to find factorial: 6\n"
     ]
    },
    {
     "name": "stdout",
     "output_type": "stream",
     "text": [
      "Factorial of the number 6 is 720\n"
     ]
    }
   ],
   "source": [
    "#Program to print the factorial of a number using recursion\n",
    "def factorial(num):\n",
    "    if(num==1):\n",
    "        return 1\n",
    "    else:\n",
    "        return num*factorial(num-1)\n",
    "num=int(input(\"Enter the number for which you want to find factorial:\"))\n",
    "if(num==0):\n",
    "    print(f\"The factorial of the number {num} is 1\")\n",
    "elif(num<0):\n",
    "    print(\"Factorials don't exists for negative numbers.\")\n",
    "else:\n",
    "    print(f\"Factorial of the number {num} is {factorial(num)}\")"
   ]
  },
  {
   "cell_type": "code",
   "execution_count": 23,
   "id": "60696fa5-0a85-4c4e-82ba-c90effd7de8c",
   "metadata": {},
   "outputs": [
    {
     "name": "stdout",
     "output_type": "stream",
     "text": [
      "Welcome to bmi calculator:\n"
     ]
    },
    {
     "name": "stdin",
     "output_type": "stream",
     "text": [
      "Enter the height of the individual in meters 1.8\n",
      "Enter the weight of the individual in kg 70\n"
     ]
    },
    {
     "name": "stdout",
     "output_type": "stream",
     "text": [
      "Your bmi is 21.6\n",
      "Your weight is normal\n"
     ]
    }
   ],
   "source": [
    "#Python program to calculate the body mass index\n",
    "def bmi_calculator(height, weight):\n",
    "    bmi=weight/(height**2)\n",
    "    return round(bmi,2)\n",
    "print(\"Welcome to bmi calculator:\")\n",
    "height=float(input(\"Enter the height of the individual in meters\"))\n",
    "weight=float(input(\"Enter the weight of the individual in kg\"))\n",
    "bmi=bmi_calculator(height,weight)\n",
    "print(f\"Your bmi is {bmi_calculator(height,weight)}\")\n",
    "if(bmi<=18.5):\n",
    "    print(\"You are underweight\")\n",
    "elif (18.5<bmi<=24.9):\n",
    "    print(\"Your weight is normal\")\n",
    "else:\n",
    "    print(\"You are overweight\")"
   ]
  },
  {
   "cell_type": "code",
   "execution_count": 31,
   "id": "ba29f381-91a4-4831-9cd3-012381c2d473",
   "metadata": {},
   "outputs": [
    {
     "name": "stdin",
     "output_type": "stream",
     "text": [
      "Enter the number 1.4\n"
     ]
    },
    {
     "name": "stdout",
     "output_type": "stream",
     "text": [
      "The logarithm of the number 1.4 is 0.34\n"
     ]
    }
   ],
   "source": [
    "import math\n",
    "#Program to find the logarithm of any number:\n",
    "num=float(input(\"Enter the number\"))\n",
    "print(f\"The logarithm of the number {num} is {round(math.log(num),2)}\")"
   ]
  },
  {
   "cell_type": "code",
   "execution_count": 45,
   "id": "7c2f9f39-4147-41b1-af66-1bb61d57a47d",
   "metadata": {},
   "outputs": [
    {
     "name": "stdin",
     "output_type": "stream",
     "text": [
      "Enter the number of numbers: 7\n"
     ]
    },
    {
     "name": "stdout",
     "output_type": "stream",
     "text": [
      "The cube of the first 7 natural nnumbers is 784\n",
      "The sum of the array [45, 76, 21, 33] is 175\n",
      "The sum of the array [45, 76, 21, 33] using function is : 175\n"
     ]
    }
   ],
   "source": [
    "#Python program to find teh cube of first n natural numbers\n",
    "def cube_num(num):\n",
    "    lst=[i**3 for i in range(1,num+1)]\n",
    "    return sum(lst)\n",
    "num=int(input(\"Enter the number of numbers:\"))\n",
    "print(f\"The cube of the first {num} natural nnumbers is {cube_num(num)}\")\n",
    "\n",
    "#Program to find the sum of the array:\n",
    "a=[45,76,21,33]\n",
    "def sum_array(a):\n",
    "    total=0\n",
    "    for i in a:\n",
    "        total+=i\n",
    "    return total\n",
    "print(f\"The sum of the array {a} is {sum(a)}\")\n",
    "print(f\"The sum of the array {a} using function is : {sum_array(a)}\")"
   ]
  },
  {
   "cell_type": "code",
   "execution_count": 49,
   "id": "26695ba4-5c1b-4cc1-a280-ecf1e4caf596",
   "metadata": {},
   "outputs": [
    {
     "name": "stdout",
     "output_type": "stream",
     "text": [
      "The largest element in the array [98, 32, 77, 215, 23] is 215\n",
      "The largest element in the array [98, 32, 77, 215, 23] using built in function is 215\n"
     ]
    }
   ],
   "source": [
    "#Python program to find the largest element in the array:\n",
    "def largest_element(arr):\n",
    "    max=arr[0]\n",
    "    for i in arr:\n",
    "        if i>max:\n",
    "            max=i\n",
    "        else:\n",
    "            pass\n",
    "    return max\n",
    "arr=[98,32,77,215,23]\n",
    "print(f\"The largest element in the array {arr} is {largest_element(arr)}\")\n",
    "print(f\"The largest element in the array {arr} using built in function is {max(arr)}\")"
   ]
  },
  {
   "cell_type": "code",
   "execution_count": 59,
   "id": "b5d49e2b-637f-47eb-90ad-1b1c1fc28fa4",
   "metadata": {},
   "outputs": [
    {
     "name": "stdin",
     "output_type": "stream",
     "text": [
      "Enter the number of positions to rotate 2\n"
     ]
    },
    {
     "name": "stdout",
     "output_type": "stream",
     "text": [
      "The rotated array is: [3, 4, 5, 1, 2]\n"
     ]
    }
   ],
   "source": [
    "#Python program to rotate an array:\n",
    "def rotate_array(arr,d):\n",
    "    n=len(arr)\n",
    "    if(d<0 or d>=n):\n",
    "        return \"Invalid rotation\"\n",
    "    # create a new array to store the rotated element\n",
    "    rotated_array=[0]*n\n",
    "    for i in range(n):\n",
    "        rotated_array[i]=arr[(i+d)%n]\n",
    "    return rotated_array\n",
    "a=[1,2,3,4,5]\n",
    "d=int(input(\"Enter the number of positions to rotate\"))\n",
    "result=rotate_array(a,d)\n",
    "print(\"The rotated array is: {0}\".format(result))"
   ]
  },
  {
   "cell_type": "code",
   "execution_count": 2,
   "id": "e1a9eb52-0b01-4267-a621-cb3bb39f50bf",
   "metadata": {},
   "outputs": [
    {
     "name": "stdin",
     "output_type": "stream",
     "text": [
      "Enter the number of elements to be inserted into the array: 5\n",
      "Enter the element of the array: 1\n",
      "Enter the element of the array: 2\n",
      "Enter the element of the array: 3\n",
      "Enter the element of the array: 4\n",
      "Enter the element of the array: 5\n"
     ]
    },
    {
     "name": "stdout",
     "output_type": "stream",
     "text": [
      "The entered array is :[1, 2, 3, 4, 5]\n"
     ]
    },
    {
     "name": "stdin",
     "output_type": "stream",
     "text": [
      "Enter the point at which you want to split the array 2\n"
     ]
    },
    {
     "name": "stdout",
     "output_type": "stream",
     "text": [
      "The resulting array is :[3, 4, 5, 1, 2]\n"
     ]
    }
   ],
   "source": [
    "#Program to split the array and add the first part to the end\n",
    "def array_split(arr):\n",
    "    first_part=arr[:k]\n",
    "    second_part=arr[k:]\n",
    "    result=second_part+first_part\n",
    "    return result\n",
    "n=int(input(\"Enter the number of elements to be inserted into the array:\"))\n",
    "a=[]\n",
    "for i in range(n):\n",
    "    x=int(input(\"Enter the element of the array:\"))\n",
    "    a.append(x)\n",
    "print(\"The entered array is :{0}\".format(a))\n",
    "k=int(input(\"Enter the point at which you want to split the array\"))\n",
    "print(f\"The resulting array is :{array_split(a)}\")"
   ]
  },
  {
   "cell_type": "code",
   "execution_count": 9,
   "id": "920b6f7d-9438-476d-bb3e-a05b1c6b6c99",
   "metadata": {},
   "outputs": [
    {
     "name": "stdout",
     "output_type": "stream",
     "text": [
      "arr1 is monotonic True\n",
      "arr1 is monotonic True\n",
      "arr1 is monotonic False\n"
     ]
    }
   ],
   "source": [
    "# Program to check whether an array is monotonic\n",
    "def monotonic_check(arr):\n",
    "    increasing=decreasing=True\n",
    "    l=len(arr)\n",
    "    for i in range(1,l):\n",
    "        if arr[i]>arr[i-1]:\n",
    "            decreasing=False\n",
    "        elif arr[i]<arr[i-1]:\n",
    "            increasing=False\n",
    "    return increasing or decreasing\n",
    "# Test the function\n",
    "arr1 = [1, 2, 2, 3]  # Monotonic (non-decreasing)\n",
    "arr2 = [3, 2, 1]     # Monotonic (non-increasing)\n",
    "arr3 = [1, 3, 2, 4]  # Not monotonic\n",
    "print(\"arr1 is monotonic\",monotonic_check(arr1))\n",
    "print(\"arr1 is monotonic\",monotonic_check(arr2))\n",
    "print(\"arr1 is monotonic\",monotonic_check(arr3))"
   ]
  },
  {
   "cell_type": "code",
   "execution_count": 2,
   "id": "4375699a-8b23-4e0b-91fd-41efded51946",
   "metadata": {},
   "outputs": [
    {
     "name": "stdin",
     "output_type": "stream",
     "text": [
      "Enter the number of rows of the matrix: 3\n",
      "Enter the number f column of the matrix: 3\n"
     ]
    },
    {
     "name": "stdout",
     "output_type": "stream",
     "text": [
      "Enter the records for matrix a:\n"
     ]
    },
    {
     "name": "stdin",
     "output_type": "stream",
     "text": [
      "Enter the element for (0,0) position: 1\n",
      "Enter the element for (0,1) position: 2\n",
      "Enter the element for (0,2) position: 3\n",
      "Enter the element for (1,0) position: 4\n",
      "Enter the element for (1,1) position: 5\n",
      "Enter the element for (1,2) position: 6\n",
      "Enter the element for (2,0) position: 7\n",
      "Enter the element for (2,1) position: 8\n",
      "Enter the element for (2,2) position: 9\n"
     ]
    },
    {
     "name": "stdout",
     "output_type": "stream",
     "text": [
      "inserted records for the matrix a\n",
      "Enter the records for matrix b:\n"
     ]
    },
    {
     "name": "stdin",
     "output_type": "stream",
     "text": [
      "Enter the element for (0,0) position: 9\n",
      "Enter the element for (0,1) position: 8\n",
      "Enter the element for (0,2) position: 7\n",
      "Enter the element for (1,0) position: 6\n",
      "Enter the element for (1,1) position: 5\n",
      "Enter the element for (1,2) position: 4\n",
      "Enter the element for (2,0) position: 3\n",
      "Enter the element for (2,1) position: 2\n",
      "Enter the element for (2,2) position: 1\n"
     ]
    },
    {
     "name": "stdout",
     "output_type": "stream",
     "text": [
      "The matrix a: [[1.0, 2.0, 3.0], [4.0, 5.0, 6.0], [7.0, 8.0, 9.0]]\n",
      "The matrix b: [[9.0, 8.0, 7.0], [6.0, 5.0, 4.0], [3.0, 2.0, 1.0]]\n",
      "The result after adding the two matrix is:  [[10.0, 10.0, 10.0], [10.0, 10.0, 10.0], [10.0, 10.0, 10.0]]\n"
     ]
    }
   ],
   "source": [
    "#Python program to add two matrices\n",
    "rows=int(input(\"Enter the number of rows of the matrix:\"))\n",
    "columns=int(input(\"Enter the number of column of the matrix:\"))\n",
    "a=[]\n",
    "b=[]\n",
    "def matrix_addition(a,b):\n",
    "    if((len(a)!=len(b)) and len(a[0]!=len(b))):\n",
    "        print(\"matrix addition is not possible as the dimensions are different\")\n",
    "    else:\n",
    "        result=[]\n",
    "        for i in range(len(a)):\n",
    "            row=[]\n",
    "            for j in range(len(a[i])):\n",
    "                row.append(a[i][j]+b[i][j])\n",
    "            result.append(row)\n",
    "        return result\n",
    "                \n",
    "def insert_records(arr):\n",
    "    for i in range(rows):\n",
    "        row_data=[]\n",
    "        for j in range(columns):\n",
    "            x=float(input(f\"Enter the element for ({i},{j}) position:\"))\n",
    "            row_data.append(x)\n",
    "        arr.append(row_data)\n",
    "    return arr\n",
    "print(\"Enter the records for matrix a:\")\n",
    "a=insert_records(a)\n",
    "print(\"Inserted records for the matrix a\")\n",
    "print(\"Enter the records for matrix b:\")\n",
    "b=insert_records(b)\n",
    "print(\"Inserted records for the matrix b\")\n",
    "print(\"The matrix a:\",a)\n",
    "print(\"The matrix b:\",b)\n",
    "print(\"The result after adding the two matrix is: \",matrix_addition(a,b))"
   ]
  },
  {
   "cell_type": "code",
   "execution_count": 13,
   "id": "33488b31-45bc-4a3f-b681-a3bc9b4c75eb",
   "metadata": {},
   "outputs": [
    {
     "name": "stdout",
     "output_type": "stream",
     "text": [
      "The result obtained after multiplying the two matrix: [[58, 64], [139, 154]]\n"
     ]
    }
   ],
   "source": [
    "# Program to multiply two matrix\n",
    "def matrix_multiply(a,b):\n",
    "    #determine the dimensions of the input matrices\n",
    "    rows1=len(a)\n",
    "    cols1=len(a[0])\n",
    "    rows2=len(b)\n",
    "    cols2=len(b[0])\n",
    "    if(cols1!=rows2):\n",
    "        print(\"The matrix multiplication is not possible\")\n",
    "    else:\n",
    "        # Initialise the result matrix before performing the matrix calculation\n",
    "        result=[[0 for _ in range(cols2)] for _ in range(rows1) ]\n",
    "        for i in  range(rows1):\n",
    "            for j in range(cols2):\n",
    "                for k in range(rows2):\n",
    "                    result[i][j]+=a[i][k]*b[k][j]\n",
    "        return result\n",
    " # Example matrices\n",
    "a = [[1, 2, 3],\n",
    "    [4, 5, 6]]\n",
    "b =  [[7, 8],\n",
    "        [9, 10],\n",
    "        [11, 12]]\n",
    "print(\"The result obtained after multiplying the two matrix:\",matrix_multiply(a,b))"
   ]
  },
  {
   "cell_type": "code",
   "execution_count": 15,
   "id": "11fbf4a4-c17c-477d-b708-6c826b4a3103",
   "metadata": {},
   "outputs": [
    {
     "name": "stdin",
     "output_type": "stream",
     "text": [
      "Enter the string: My name is Adarsha Chatterjee\n"
     ]
    },
    {
     "name": "stdout",
     "output_type": "stream",
     "text": [
      "The words of the string sorted in alphabetical order is : ['Adarsha', 'Chatterjee', 'Is', 'My', 'Name']\n"
     ]
    }
   ],
   "source": [
    "# Python program to sort words in a string in alphabetical order\n",
    "my_str=input(\"Enter the string:\")\n",
    "words=[word.capitalize() for word in my_str.split()]\n",
    "words.sort()\n",
    "print(f\"The words of the string sorted in alphabetical order is : {words}\")"
   ]
  },
  {
   "cell_type": "code",
   "execution_count": 22,
   "id": "f5bfba20-6ebe-41a8-8d5d-1241dfdda87a",
   "metadata": {},
   "outputs": [
    {
     "name": "stderr",
     "output_type": "stream",
     "text": [
      "<>:12: SyntaxWarning: invalid escape sequence '\\,'\n",
      "<>:12: SyntaxWarning: invalid escape sequence '\\,'\n",
      "C:\\Users\\adarsha\\AppData\\Local\\Temp\\ipykernel_19312\\705306758.py:12: SyntaxWarning: invalid escape sequence '\\,'\n",
      "  punctuation = '''!()-[]{};:'\"\\,<>./?@#$%^&*_~'''\n"
     ]
    },
    {
     "name": "stdin",
     "output_type": "stream",
     "text": [
      "Enter the string:  Hello!!!, he said ---and went\n"
     ]
    },
    {
     "name": "stdout",
     "output_type": "stream",
     "text": [
      "The string without punctuation is: Hello he said and went\n"
     ]
    }
   ],
   "source": [
    "#Python program to remove punctuation from a given string\n",
    "def remove_punctuation(input_string: str) -> str:\n",
    "    \"\"\"\n",
    "    Removes punctuation from the given string.\n",
    "    \n",
    "    Args:\n",
    "    input_string (str): The input string from which punctuation will be removed.\n",
    "    \n",
    "    Returns:\n",
    "    str: The string without punctuation.\n",
    "    \"\"\"\n",
    "    punctuation = '''!()-[]{};:'\"\\,<>./?@#$%^&*_~'''\n",
    "    no_punc = ''.join(char for char in input_string if char not in punctuation)\n",
    "    return no_punc\n",
    "\n",
    "# Main execution\n",
    "if __name__ == \"__main__\":\n",
    "    user_input = input(\"Enter the string: \")\n",
    "    result = remove_punctuation(user_input)\n",
    "    print(f\"The string without punctuation is: {result}\")\n",
    "        "
   ]
  },
  {
   "cell_type": "code",
   "execution_count": 24,
   "id": "d456a5ea-1e6d-4fcc-a67b-d0cc8d643794",
   "metadata": {},
   "outputs": [
    {
     "name": "stdin",
     "output_type": "stream",
     "text": [
      "Enter the number to check: 89\n"
     ]
    },
    {
     "name": "stdout",
     "output_type": "stream",
     "text": [
      "The number is a disarium number\n"
     ]
    }
   ],
   "source": [
    "# Python program to check whether a number is disarium number\n",
    "def disarium_number(num):\n",
    "    length=len(str(num))\n",
    "    digits=str(num)\n",
    "    result=sum(int(digit)**(index+1) for index,digit in enumerate(digits))\n",
    "    return result==num\n",
    "try:\n",
    "    num=int(input(\"Enter the number to check:\"))\n",
    "    if disarium_number(num):\n",
    "        print(\"The number is a disarium number\")\n",
    "    else:\n",
    "        print(\"The number is not a disarium number\")\n",
    "except ValueError:\n",
    "    print(\"Invalid input.Enter a valid number\")"
   ]
  },
  {
   "cell_type": "code",
   "execution_count": 26,
   "id": "9fb2af53-fae1-4bb8-99ef-dbabde7c69e9",
   "metadata": {},
   "outputs": [
    {
     "name": "stdin",
     "output_type": "stream",
     "text": [
      "Enter the lower limit: 1\n",
      "Enter the upper limit: 100\n"
     ]
    },
    {
     "name": "stdout",
     "output_type": "stream",
     "text": [
      "The disarium numbers in the given range are:\n",
      "1\n",
      "2\n",
      "3\n",
      "4\n",
      "5\n",
      "6\n",
      "7\n",
      "8\n",
      "9\n",
      "89\n"
     ]
    }
   ],
   "source": [
    "# Program to print all the disarium numbers in a given range\n",
    "def disarium_check(num):\n",
    "    length=len(str(num))\n",
    "    digits=str(num)\n",
    "    result=sum(int(digit)**(index+1) for index,digit in enumerate(digits))\n",
    "    return result==num\n",
    "lower=int(input(\"Enter the lower limit:\"))\n",
    "upper=int(input(\"Enter the upper limit:\"))\n",
    "print(\"The disarium numbers in the given range are:\")\n",
    "for i in range(lower,upper+1):\n",
    "    if(disarium_check(i)):\n",
    "        print(i)\n",
    "    else:\n",
    "        continue"
   ]
  },
  {
   "cell_type": "code",
   "execution_count": 42,
   "id": "ea28872e-cf19-4601-b436-d96db46a8194",
   "metadata": {},
   "outputs": [
    {
     "name": "stdin",
     "output_type": "stream",
     "text": [
      "Enter the number: 82\n"
     ]
    },
    {
     "name": "stdout",
     "output_type": "stream",
     "text": [
      "The number is a happy number\n"
     ]
    }
   ],
   "source": [
    "#Program to check whether a number is a happy number\n",
    "def happy_number(num):\n",
    "    seen=set()\n",
    "    while num!=1 and num not in seen:\n",
    "        seen.add(num)\n",
    "        num=sum(int(digits)**2 for digits in str(num))\n",
    "    return num==1\n",
    "num=int(input(\"Enter the number:\"))\n",
    "if(happy_number(num)):\n",
    "    print(\"The number is a happy number\")\n",
    "else:\n",
    "    print(\"The number is not a happy number\")"
   ]
  },
  {
   "cell_type": "code",
   "execution_count": 2,
   "id": "6f4592bc-85b0-4061-b2c2-b1c2ac3c558a",
   "metadata": {},
   "outputs": [
    {
     "name": "stdin",
     "output_type": "stream",
     "text": [
      "Enter the lower limit: 1\n",
      "Enter the upper limit: 100\n"
     ]
    },
    {
     "name": "stdout",
     "output_type": "stream",
     "text": [
      "The happy numbers in the range 1 and 100 is :\n",
      "\n",
      "1\n",
      "7\n",
      "10\n",
      "13\n",
      "19\n",
      "23\n",
      "28\n",
      "31\n",
      "32\n",
      "44\n",
      "49\n",
      "68\n",
      "70\n",
      "79\n",
      "82\n",
      "86\n",
      "91\n",
      "94\n",
      "97\n",
      "100\n"
     ]
    }
   ],
   "source": [
    "#Python program to print all the happy numbers in a given range:\n",
    "def happy_number(num):\n",
    "    seen=set()\n",
    "    while num!=1 and num not in seen:\n",
    "        seen.add(num)\n",
    "        num=sum(int(i)**2 for i in str(num))\n",
    "    return num==1\n",
    "        \n",
    "lower=int(input(\"Enter the lower limit:\"))\n",
    "upper=int(input(\"Enter the upper limit:\"))\n",
    "print(f\"The happy numbers in the range {lower} and {upper} is :\\n\")\n",
    "for i in range(lower,upper+1):\n",
    "    if(happy_number(i)):\n",
    "        print(i,end=\"\\n\")"
   ]
  },
  {
   "cell_type": "code",
   "execution_count": 2,
   "id": "b27a8a4c-b20b-4f56-a264-e0de5232deb3",
   "metadata": {},
   "outputs": [
    {
     "name": "stdin",
     "output_type": "stream",
     "text": [
      "Enter the number: 18\n"
     ]
    },
    {
     "name": "stdout",
     "output_type": "stream",
     "text": [
      "The entered number is a harshad number\n",
      "The entered number is a harshad number\n"
     ]
    }
   ],
   "source": [
    "# Program to check whether a number is a harshad number\n",
    "def harshad_number_m1(n):\n",
    "    sum_of_digits=sum(int(i) for i in str(n))\n",
    "    if(n%sum_of_digits==0):\n",
    "        return True\n",
    "    else:\n",
    "        return False\n",
    "def harshad_number_m2(num):\n",
    "    s=0\n",
    "    temp=num\n",
    "    while temp>0:\n",
    "        r=temp%10\n",
    "        s+=r\n",
    "        temp=temp//10\n",
    "    if num%s==0:\n",
    "        return True\n",
    "    else:\n",
    "        return False\n",
    "num=int(input(\"Enter the number:\"))\n",
    "# Trying to determine through method 1\n",
    "if harshad_number_m1(num):\n",
    "    print(\"The entered number is a harshad number\")\n",
    "else:\n",
    "    print(\"The entered nnumber is not a harshad number\")\n",
    "# Trying to determine through method 2\n",
    "if harshad_number_m2(num):\n",
    "    print(\"The entered number is a harshad number\")\n",
    "else:\n",
    "    print(\"The entered nnumber is not a harshad number\")"
   ]
  },
  {
   "cell_type": "code",
   "execution_count": 14,
   "id": "cba75e78-c25c-4bba-b872-9a8a62cd2ffe",
   "metadata": {},
   "outputs": [
    {
     "name": "stdin",
     "output_type": "stream",
     "text": [
      "Enter the lower limit: 1\n",
      "Enter the upper limit: 100\n"
     ]
    },
    {
     "name": "stdout",
     "output_type": "stream",
     "text": [
      "2\n",
      "6\n",
      "12\n",
      "20\n",
      "30\n",
      "42\n",
      "56\n",
      "72\n",
      "90\n"
     ]
    }
   ],
   "source": [
    "# Python program to print all the pronic numbers in the given range\n",
    "def is_pronic(num):\n",
    "    for n in range(1,int(num*0.5+1)):\n",
    "        if (n*(n+1))==num:\n",
    "            return True\n",
    "    return False\n",
    "lower=int(input(\"Enter the lower limit:\"))\n",
    "upper=int(input(\"Enter the upper limit:\"))\n",
    "for i in range(lower,upper+1):\n",
    "    if (is_pronic(i)):\n",
    "        print(i,end=\"\\n\")"
   ]
  },
  {
   "cell_type": "code",
   "execution_count": 29,
   "id": "85ea2eb4-9ac5-4b37-89d8-3fe29e9dfe52",
   "metadata": {},
   "outputs": [
    {
     "name": "stdin",
     "output_type": "stream",
     "text": [
      "Enter the number of elements that you want to enter into ths list: 6\n",
      "Enter the number you want to enter into the list: 8\n",
      "Enter the number you want to enter into the list: 3\n",
      "Enter the number you want to enter into the list: 5\n",
      "Enter the number you want to enter into the list: 2\n",
      "Enter the number you want to enter into the list: 7\n",
      "Enter the number you want to enter into the list: 9\n"
     ]
    },
    {
     "name": "stdout",
     "output_type": "stream",
     "text": [
      "The sum of the elements of the list is: 34 and the product of the elements in the list is 15120\n"
     ]
    }
   ],
   "source": [
    "#Python program to print the sum of all the elements in a list:\n",
    "def sum_and_product(lst):\n",
    "    product = 1\n",
    "    for i in lst:\n",
    "        product *= i\n",
    "    return sum(lst), product  # Fixed indentation\n",
    "lst=[]\n",
    "n=int(input(\"Enter the number of elements that you want to enter into ths list:\"))\n",
    "for i in range(n):\n",
    "    x=int(input(\"Enter the number you want to enter into the list:\"))\n",
    "    lst.append(x)\n",
    "sum_of_elements,product_of_elements=sum_and_product(lst)\n",
    "print(f\"The sum of the elements of the list is: {sum_of_elements} and the product of the elements in the list is {product_of_elements}\")"
   ]
  },
  {
   "cell_type": "code",
   "execution_count": 35,
   "id": "1dd539ad-4105-4a88-8631-991974f3379e",
   "metadata": {},
   "outputs": [
    {
     "name": "stdin",
     "output_type": "stream",
     "text": [
      "Enter the number of elements that you want to enter into ths list: 5\n",
      "Enter the number you want to enter into the list: 5\n",
      "Enter the number you want to enter into the list: 7\n",
      "Enter the number you want to enter into the list: 2\n",
      "Enter the number you want to enter into the list: 9\n",
      "Enter the number you want to enter into the list: 32\n"
     ]
    },
    {
     "name": "stdout",
     "output_type": "stream",
     "text": [
      "The minimum element present in the list is : 2 and the maximum element present in the list: 32\n"
     ]
    }
   ],
   "source": [
    "# Python program to find the smallest and largest number in a list:\n",
    "def smallest_and_largest(lst):\n",
    "    mini=lst[0]\n",
    "    maxi=lst[0]\n",
    "    for i in lst:\n",
    "        if i<mini:\n",
    "            mini=i\n",
    "        if i>maxi:\n",
    "            maxi=i\n",
    "        else:\n",
    "            pass\n",
    "    return mini,maxi\n",
    "lst=[]\n",
    "n=int(input(\"Enter the number of elements that you want to enter into ths list:\"))\n",
    "for i in range(n):\n",
    "    x=int(input(\"Enter the number you want to enter into the list:\"))\n",
    "    lst.append(x)\n",
    "minimum,maximum=smallest_and_largest(lst)\n",
    "print(f\"The minimum element present in the list is : {minimum} and the maximum element present in the list: {maximum}\")"
   ]
  },
  {
   "cell_type": "code",
   "execution_count": 41,
   "id": "5c9a94cf-8113-4f11-bd9a-4cf7aac6db50",
   "metadata": {},
   "outputs": [
    {
     "name": "stdin",
     "output_type": "stream",
     "text": [
      "Enter the number of elements that you want to enter into ths list: 5\n",
      "Enter the number you want to enter into the list: 8\n",
      "Enter the number you want to enter into the list: 2\n",
      "Enter the number you want to enter into the list: 4\n",
      "Enter the number you want to enter into the list: 9\n",
      "Enter the number you want to enter into the list: 1\n",
      "Enter the number of largest element that you want to find: 3\n"
     ]
    },
    {
     "name": "stdout",
     "output_type": "stream",
     "text": [
      "The first 3 largest numbers are:\n",
      "\n",
      "9\n",
      "8\n",
      "4\n"
     ]
    }
   ],
   "source": [
    "# Python program to find n largest element from the list\n",
    "def nlargest(lst,num):\n",
    "    lst.sort(reverse=True)\n",
    "    largest_numbers=lst[:num]\n",
    "    return largest_numbers\n",
    "lst=[]\n",
    "n=int(input(\"Enter the number of elements that you want to enter into ths list:\"))\n",
    "for i in range(n):\n",
    "    x=int(input(\"Enter the number you want to enter into the list:\"))\n",
    "    lst.append(x)\n",
    "num=int(input(\"Enter the number of largest element that you want to find:\"))\n",
    "print(f\"The first {num} largest numbers are:\\n\")\n",
    "for i in nlargest(lst,num):\n",
    "    print(i,end=\"\\n\")"
   ]
  },
  {
   "cell_type": "code",
   "execution_count": 43,
   "id": "90e2f6ce-9112-4093-8ba4-810c2e124c68",
   "metadata": {},
   "outputs": [
    {
     "name": "stdin",
     "output_type": "stream",
     "text": [
      "Enter the number of elements that you want to enter into ths list: 5\n",
      "Enter the number you want to enter into the list: 34\n",
      "Enter the number you want to enter into the list: 21\n",
      "Enter the number you want to enter into the list: 93\n",
      "Enter the number you want to enter into the list: 22\n",
      "Enter the number you want to enter into the list: 45\n"
     ]
    },
    {
     "name": "stdout",
     "output_type": "stream",
     "text": [
      "The odd numbers in the list are [21, 93, 45] and the even numbers in the list are: [34, 22]\n"
     ]
    }
   ],
   "source": [
    "# Program to print odd and even numbers in a list\n",
    "def odd_and_even(lst):\n",
    "    odd=[i for i in lst if i%2!=0]\n",
    "    even=[i for i in lst if i%2==0]\n",
    "    return odd,even\n",
    "lst=[]\n",
    "n=int(input(\"Enter the number of elements that you want to enter into ths list:\"))\n",
    "for i in range(n):\n",
    "    x=int(input(\"Enter the number you want to enter into the list:\"))\n",
    "    lst.append(x)\n",
    "odd,even=odd_and_even(lst)\n",
    "print(f\"The odd numbers in the list are {odd} and the even numbers in the list are: {even}\")"
   ]
  },
  {
   "cell_type": "code",
   "execution_count": 2,
   "id": "32847233-d576-44a4-af7d-16d2132cce88",
   "metadata": {},
   "outputs": [
    {
     "name": "stdout",
     "output_type": "stream",
     "text": [
      "The elements in the list after removing the empty lists:[[1, 2, 3], [4, 5], [6, 7, 8]]\n"
     ]
    }
   ],
   "source": [
    "# Python program to remove empty list from a list\n",
    "list_of_lists = [[1, 2, 3], [], [4, 5], [], [6, 7, 8], []]\n",
    "lst=[i for i in list_of_lists if i]\n",
    "print(f\"The elements in the list after removing the empty lists:{lst}\")"
   ]
  },
  {
   "cell_type": "code",
   "execution_count": 6,
   "id": "71d99345-cd73-4f76-b3e8-c0d72af9390a",
   "metadata": {},
   "outputs": [
    {
     "name": "stdout",
     "output_type": "stream",
     "text": [
      "[1, 2, 3, 4, 5, 6, 7, 8, 9]\n",
      "[1, 2, 3, 4, 5, 6, 7, 8, 9]\n",
      "[1, 2, 3, 4, 5, 6, 7, 8, 9]\n"
     ]
    }
   ],
   "source": [
    "# Python program to cloning/copying a list\n",
    "\n",
    "# 1.Using the slicing operator\n",
    "original_list=[1,2,3,4,5,6,7,8,9]\n",
    "cloned_list=original_list[:]\n",
    "print(cloned_list)\n",
    "\n",
    "# 2.Using the list constructor\n",
    "cloned_list=list(original_list)\n",
    "print(cloned_list)\n",
    "\n",
    "# 3.Using list comprehension\n",
    "\n",
    "cloned_list=[i for i in original_list]\n",
    "print(cloned_list)"
   ]
  },
  {
   "cell_type": "code",
   "execution_count": 14,
   "id": "10337709-adf7-4708-a33d-3c820246635a",
   "metadata": {},
   "outputs": [
    {
     "name": "stdin",
     "output_type": "stream",
     "text": [
      "Enter the element that you want to count: 5\n"
     ]
    },
    {
     "name": "stdout",
     "output_type": "stream",
     "text": [
      "The element 5 occured 2 number of times in the list.\n"
     ]
    }
   ],
   "source": [
    "# Python program to count the occurance of an element in the list\n",
    "def occurance(my_list,n):\n",
    "    count=my_list.count(n)\n",
    "    return count\n",
    "my_list = [1, 2, 3, 4, 2, 5, 2, 3, 4, 6, 5]\n",
    "n=int(input(\"Enter the element that you want to count:\"))\n",
    "print(f\"The element {n} occured {occurance(my_list,n)} number of times in the list.\")"
   ]
  },
  {
   "cell_type": "code",
   "execution_count": 18,
   "id": "733723c1-66f8-4313-abc9-89fe9e634a6d",
   "metadata": {},
   "outputs": [
    {
     "name": "stdin",
     "output_type": "stream",
     "text": [
      "Enter the length of the word: 5\n"
     ]
    },
    {
     "name": "stdout",
     "output_type": "stream",
     "text": [
      "The words in the list with length greater than 5 are: ['banana', 'cherry', 'elderberry', 'dragon']\n"
     ]
    }
   ],
   "source": [
    " # Python program to find words which are greater than given length k\n",
    "def greater_than_k(word_list,k):\n",
    "    words=[]\n",
    "    for i in word_list:\n",
    "        if len(i)>k:\n",
    "          words.append(i)\n",
    "    return words\n",
    "word_list = [\"apple\", \"banana\", \"cherry\", \"date\", \"elderberry\", \"dragon\",\"fruit\"]\n",
    "k=int(input(\"Enter the length of the word:\"))\n",
    "print(f\"The words in the list with length greater than {k} are: {greater_than_k(word_list,k)}\")"
   ]
  },
  {
   "cell_type": "code",
   "execution_count": 28,
   "id": "7bbf249e-6c1b-4a0b-856c-e377da841c48",
   "metadata": {},
   "outputs": [
    {
     "name": "stdin",
     "output_type": "stream",
     "text": [
      "Enter the string: Adarsha\n",
      "Enter the index that you want to remove from the string 3\n",
      "Enter the character that you want to remove from the string: d\n"
     ]
    },
    {
     "name": "stdout",
     "output_type": "stream",
     "text": [
      "The string after removing character d is Aarsha\n",
      "The string after removing the index 3 is Adasha\n"
     ]
    }
   ],
   "source": [
    "# Python program for removing the ith character from a string\n",
    "def remove_character(string,c):\n",
    "    s=''.join([i for i in string if i!=c])\n",
    "    return s\n",
    "def remove_from_ith_position(string,index):\n",
    "    if index<0 or index>len(string):\n",
    "        return \"Entered a wrong index\"\n",
    "    return string[:index]+string[index+1:]\n",
    "string=input(\"Enter the string:\")\n",
    "index=int(input(\"Enter the index that you want to remove from the string\"))\n",
    "c=input(\"Enter the character that you want to remove from the string:\")\n",
    "print(f\"The string after removing character {c} is {remove_character(string,c)}\")\n",
    "print(f\"The string after removing the index {index} is {remove_from_ith_position(string,index)}\")"
   ]
  },
  {
   "cell_type": "code",
   "execution_count": 2,
   "id": "c6020123-1ce7-4076-9e04-6ccc680e5928",
   "metadata": {},
   "outputs": [
    {
     "name": "stdin",
     "output_type": "stream",
     "text": [
      "Enter the string: My name is Adarsha\n",
      "Enter the separator *\n"
     ]
    },
    {
     "name": "stdout",
     "output_type": "stream",
     "text": [
      "The resuultant string is : My*name*is*Adarsha\n"
     ]
    }
   ],
   "source": [
    "#Python program to split and join a string\n",
    "def split_string_with_separator(string,separator):\n",
    "    words=string.split()\n",
    "    return separator.join(words)\n",
    "string=input(\"Enter the string:\")\n",
    "separator=input(\"Enter the separator\")\n",
    "print(f\"The resuultant string is : {split_string_with_separator(string,separator)}\")"
   ]
  },
  {
   "cell_type": "code",
   "execution_count": 10,
   "id": "417680ed-145b-4a6a-811b-19cbf8eeb4a8",
   "metadata": {},
   "outputs": [
    {
     "name": "stdin",
     "output_type": "stream",
     "text": [
      "Entered the string 01110101101010\n"
     ]
    },
    {
     "name": "stdout",
     "output_type": "stream",
     "text": [
      "The entered string 01110101101010 is binary\n"
     ]
    }
   ],
   "source": [
    "#Program to check whether entered string is binary or not\n",
    "def is_binary(string):\n",
    "    for i in string:\n",
    "        if i in '01':\n",
    "            return True\n",
    "        else:\n",
    "            return False\n",
    "string=input(\"Entered the string\")\n",
    "if (is_binary(string)):\n",
    "    print(f\"The entered string {string} is binary\")\n",
    "else:\n",
    "    print(f\"The entered string {string} is not binary\")"
   ]
  },
  {
   "cell_type": "code",
   "execution_count": 25,
   "id": "5a3e12e8-ec32-4512-ac55-a24a0f340fdf",
   "metadata": {},
   "outputs": [
    {
     "name": "stdin",
     "output_type": "stream",
     "text": [
      "Enter the first string: This is the first string\n",
      "Enter the second string: This is the second string\n"
     ]
    },
    {
     "name": "stdout",
     "output_type": "stream",
     "text": [
      "Uncommon words: ['second', 'first']\n"
     ]
    }
   ],
   "source": [
    "\n",
    "def uncommon_words(str1, str2):\n",
    "    # Split the strings into words and convert them to sets\n",
    "    words1 = set(str1.split())\n",
    "    words2 = set(str2.split())\n",
    "    # Find uncommon words by taking the set difference\n",
    "    uncommon_words_set = words1.symmetric_difference(words2)\n",
    "    # Convert the set of uncommon words back to a list\n",
    "    uncommon_words_list = list(uncommon_words_set)\n",
    "    return uncommon_words_list\n",
    "\n",
    "# Input two strings\n",
    "string1 = input(\"Enter the first string:\")\n",
    "string2 = input(\"Enter the second string:\")\n",
    "\n",
    "# Find uncommon words between the two strings\n",
    "uncommon = uncommon_words(string1, string2)\n",
    "\n",
    "# Print the uncommon words\n",
    "print(\"Uncommon words:\", uncommon)\n"
   ]
  },
  {
   "cell_type": "code",
   "execution_count": 12,
   "id": "646186a1-26d1-4a33-bd25-cc45ffea3274",
   "metadata": {},
   "outputs": [
    {
     "name": "stdin",
     "output_type": "stream",
     "text": [
      "Enter the string: My name is Adarsha Chatterjee\n"
     ]
    },
    {
     "name": "stdout",
     "output_type": "stream",
     "text": [
      "The duplicate characters in the string My name is Adarsha Chatterjee is [' ', 'a', 'e', 's', 'r', 'h', 't']\n"
     ]
    }
   ],
   "source": [
    "#Python program to find all the duplicate characters in a given string\n",
    "def find_duplicates(str):\n",
    "    duplicates=[]\n",
    "    char_count={}\n",
    "    for i in str:\n",
    "        if i in char_count:\n",
    "            char_count[i]+=1\n",
    "        else:\n",
    "            char_count[i]=1\n",
    "    for i,count in char_count.items():\n",
    "        if count>1:\n",
    "            duplicates.append(i)\n",
    "    return duplicates\n",
    "str=input(\"Enter the string:\")\n",
    "print(f\"The duplicate characters in the string {str} is {find_duplicates(str)}\")"
   ]
  },
  {
   "cell_type": "code",
   "execution_count": 20,
   "id": "441fec6d-4279-405d-acb2-98b034458eb1",
   "metadata": {},
   "outputs": [
    {
     "name": "stdin",
     "output_type": "stream",
     "text": [
      "Enter the string: My name is Adarsha!!\n"
     ]
    },
    {
     "name": "stdout",
     "output_type": "stream",
     "text": [
      "The string [My name is Adarsha!!] contains special characters\n"
     ]
    }
   ],
   "source": [
    "#Python program to check if a string contains any special character\n",
    "import re\n",
    "def remove_special_characters(str):\n",
    "    pattern=r'[!@#$%^&*()_+{}\\[\\]:;<>,.?~\\\\\\/\\'\"\\-=]'\n",
    "    # Use re.search to find a match in the input string\n",
    "    if re.search(pattern,str):\n",
    "        return True\n",
    "    else:\n",
    "        return False\n",
    "str=input(\"Enter the string:\")\n",
    "if remove_special_characters(str):\n",
    "    print(f\"The string [{str}] contains special characters\")\n",
    "else:\n",
    "    print(f\"The string {str} does not contains special characters!\")"
   ]
  },
  {
   "cell_type": "code",
   "execution_count": 30,
   "id": "32391225-4305-4b17-849d-f62c756e2d56",
   "metadata": {},
   "outputs": [
    {
     "name": "stdin",
     "output_type": "stream",
     "text": [
      "Enter the number of elements that you want to enter into the dictionary: 5\n",
      "Enter the key: a\n",
      "Enter the corresponding value: 10\n",
      "Enter the key: b\n",
      "Enter the corresponding value: 20\n",
      "Enter the key: c\n",
      "Enter the corresponding value: 30\n",
      "Enter the key: d\n",
      "Enter the corresponding value: 20\n",
      "Enter the key: e\n",
      "Enter the corresponding value: 10\n"
     ]
    },
    {
     "name": "stdout",
     "output_type": "stream",
     "text": [
      "The entered dictionary is:  {'a': '10', 'b': '20', 'c': '30', 'd': '20', 'e': '10'}\n",
      "The unique values in the dictionary are: ['10', '30', '20']\n"
     ]
    }
   ],
   "source": [
    "# Python Program to extract unique disctionary values\n",
    "def uniqueDictValues(dict):\n",
    "    unique_values=set()\n",
    "    for i in dict.values():\n",
    "        unique_values.add(i)\n",
    "    return list(unique_values)\n",
    "n=int(input(\"Enter the number of elements that you want to enter into the dictionary:\"))\n",
    "dict={}\n",
    "for i in range(n):\n",
    "    key=input(\"Enter the key:\")\n",
    "    val=input(\"Enter the corresponding value:\")\n",
    "    dict[key]=val\n",
    "print(\"The entered dictionary is: \",dict)\n",
    "print(f\"The unique values in the dictionary are: {uniqueDictValues(dict)}\")"
   ]
  },
  {
   "cell_type": "code",
   "execution_count": 34,
   "id": "9418a40e-4d4b-4c47-9e37-1837610fba98",
   "metadata": {},
   "outputs": [
    {
     "name": "stdout",
     "output_type": "stream",
     "text": [
      "The sum of all the items in the dictionary is :120\n"
     ]
    }
   ],
   "source": [
    "# Program to find the sum of all the items in a dictionary\n",
    "def my_dict_sum(my_dict):\n",
    "    sum=0\n",
    "    for i in my_dict.values():\n",
    "        sum+=i\n",
    "    return sum\n",
    "my_dict={'a':10,'b':20,'c':30,'d':50,'e':10}\n",
    "print(f\"The sum of all the items in the dictionary is :{my_dict_sum(my_dict)}\")"
   ]
  },
  {
   "cell_type": "code",
   "execution_count": 40,
   "id": "79dac5bd-1dd2-4b5d-89fd-d50a77f9487c",
   "metadata": {},
   "outputs": [
    {
     "name": "stdout",
     "output_type": "stream",
     "text": [
      "Merged dictionaries using update() is : {'a': 30, 'b': 80, 'c': 70, 'd': 20, 'e': 10, 'f': 50}\n",
      "Merged dicyionaries using dictionary unpacking is : {'a': 30, 'b': 80, 'c': 70, 'd': 20, 'e': 10, 'f': 50}\n"
     ]
    }
   ],
   "source": [
    "# Python programs to merge two dictionaries\n",
    "# Method 1: using update\n",
    "dict_a={'a':30,'b':80,'c':70}\n",
    "dict_b={'d':20,'e':10, 'f': 50}\n",
    "dict_a.update(dict_b)\n",
    "print(f\"Merged dictionaries using update() is : {dict_a}\")\n",
    "# Method 2: Using unpacking\n",
    "merged_dict={**dict_a,**dict_b}\n",
    "print(f\"Merged dicyionaries using dictionary unpacking is : {merged_dict}\")"
   ]
  },
  {
   "cell_type": "code",
   "execution_count": 42,
   "id": "5629fcb3-440f-4875-905e-219d6b12757b",
   "metadata": {},
   "outputs": [
    {
     "name": "stdout",
     "output_type": "stream",
     "text": [
      "The dictionary formed using the list is: {'a': 10, 'b': 20, 'c': 30, 'd': 40, 'e': 60}\n"
     ]
    }
   ],
   "source": [
    "# Python program to convert key value list into a flat dictionary\n",
    "lst=[('a',10),('b',20),('c',30),('d',40),('e',60)]\n",
    "dict={}\n",
    "for key,value in lst:\n",
    "    dict[key]=value\n",
    "print(f\"The dictionary formed using the list is: {dict}\")"
   ]
  },
  {
   "cell_type": "code",
   "execution_count": 54,
   "id": "cc93b35f-7f81-4310-8973-38546033d390",
   "metadata": {},
   "outputs": [
    {
     "name": "stdout",
     "output_type": "stream",
     "text": [
      "Updated OrderDict is : OrderedDict({'e': 9, 'b': 2, 'a': 3, 'c': 7})\n"
     ]
    }
   ],
   "source": [
    "# Python program to insert at the beginning of OrderDict\n",
    "from collections import OrderedDict\n",
    "order_dict=OrderedDict([('b',2),('a',3),('c',7)])\n",
    "# New item to insert at the beginning\n",
    "new_order_dict=OrderedDict([('e',9)])\n",
    "new_order_dict.update(order_dict)\n",
    "print(f\"Updated OrderDict is : {new_order_dict}\")"
   ]
  },
  {
   "cell_type": "code",
   "execution_count": 4,
   "id": "fe72f361-94f6-49e8-ad66-375db4281f0f",
   "metadata": {},
   "outputs": [
    {
     "name": "stdin",
     "output_type": "stream",
     "text": [
      "Enter the first string: Hello world\n",
      "Enter the second string: Helo wrd\n"
     ]
    },
    {
     "name": "stdout",
     "output_type": "stream",
     "text": [
      "The two strings are having the same order of character.\n"
     ]
    }
   ],
   "source": [
    "# Python program to check the order of character in a string using OrderedDict\n",
    "from collections import OrderedDict\n",
    "def charOrder(string_1,string_2):\n",
    "    # Removes duplicate characters while preserving the order in string_1\n",
    "    str1=OrderedDict.fromkeys(string_1)\n",
    "    str2=OrderedDict.fromkeys(string_2)\n",
    "    return str1==str2\n",
    "string_1=input(\"Enter the first string:\")\n",
    "string_2=input(\"Enter the second string:\")\n",
    "if charOrder(string_1,string_2):\n",
    "    print(\"The two strings are having the same order of character.\")\n",
    "else:\n",
    "    print(\"The two strings are not having the same order of character.\")\n"
   ]
  },
  {
   "cell_type": "code",
   "execution_count": 14,
   "id": "c71bba9e-c839-43ae-8325-8d20f07a0c2f",
   "metadata": {},
   "outputs": [
    {
     "name": "stdout",
     "output_type": "stream",
     "text": [
      "Sorting the elements of the dictionary in ascending order of keys :{'apple': 9, 'banana': 7, 'mango': 12}\n",
      "Sorting the elements of the dictionary in descending order of keys: {'mango': 12, 'banana': 7, 'apple': 9}\n",
      "Sorting the elements of the dictionary in ascending order of values: {'banana': 7, 'apple': 9, 'mango': 12}\n",
      "Sorting the elements of the dictionary in descending order of keys: {'mango': 12, 'apple': 9, 'banana': 7}\n"
     ]
    }
   ],
   "source": [
    "# Python program to sort the python dictionaries by keys or values\n",
    "my_dict={'banana':7,'apple':9,'mango':12}\n",
    "print(f\"Sorting the elements of the dictionary in ascending order of keys :{dict(sorted(my_dict.items()))}\")\n",
    "print(f\"Sorting the elements of the dictionary in descending order of keys: {dict(sorted(my_dict.items(),reverse=True))}\")\n",
    "print(f\"Sorting the elements of the dictionary in ascending order of values: {dict(sorted(my_dict.items(),key= lambda item: item[1]))}\")\n",
    "print(f\"Sorting the elements of the dictionary in descending order of keys: {dict(sorted(my_dict.items(),key= lambda item:item[1],reverse=True))}\")"
   ]
  },
  {
   "cell_type": "code",
   "execution_count": 30,
   "id": "a4c7aa0a-7983-49bf-834e-863e7f3ee51e",
   "metadata": {},
   "outputs": [
    {
     "name": "stdin",
     "output_type": "stream",
     "text": [
      "Enter the comma separated values of D: 100,150,180\n"
     ]
    },
    {
     "name": "stdout",
     "output_type": "stream",
     "text": [
      "18,22,24\n",
      "The final result string is 18,22,24\n"
     ]
    }
   ],
   "source": [
    "# Write a program that calculates and prints the value according to the given formula:\n",
    "# 𝑄=Square root of 2𝐶𝐷/𝐻. Values of C and H are fixed\n",
    "import math\n",
    "# Fixed values\n",
    "C=50\n",
    "H=30\n",
    "def calculate(D):Python program tha\n",
    "print(f\"The final result string is {','.join(str(i) for i in result_list)}\")"
   ]
  },
  {
   "cell_type": "code",
   "execution_count": 4,
   "id": "42f6b648-82db-4db8-9b58-d8171bf669a0",
   "metadata": {},
   "outputs": [
    {
     "name": "stdin",
     "output_type": "stream",
     "text": [
      "Enter the words: my,name,is,adarsha\n"
     ]
    },
    {
     "name": "stdout",
     "output_type": "stream",
     "text": [
      "['adarsha', 'is', 'my', 'name']\n",
      "['adarsha', 'is', 'my', 'name']\n"
     ]
    }
   ],
   "source": [
    "# Python program tht accepts comma separated sequence of words as input , sorts it and then prints the words separated by commas\n",
    "string=input(\"Enter the words:\")\n",
    "words_split=string.split(',')\n",
    "words_splited=sorted(words_split)\n",
    "words_split.sort()\n",
    "print(words_splited)\n",
    "print(words_split)"
   ]
  },
  {
   "cell_type": "markdown",
   "id": "8232d68c-27de-4819-aace-24e05ff2f538",
   "metadata": {},
   "source": [
    "Data structures and algorithms"
   ]
  },
  {
   "cell_type": "raw",
   "id": "a0c8e0d5-1d0a-4eea-a154-68ef897882c0",
   "metadata": {},
   "source": [
    "Arrays"
   ]
  },
  {
   "cell_type": "code",
   "execution_count": 1,
   "id": "e5ca2b41-8996-43b7-9fbc-d0e676cb49e4",
   "metadata": {},
   "outputs": [
    {
     "name": "stdin",
     "output_type": "stream",
     "text": [
      "Enter the length of the array 5\n",
      "Enter the element into the array: 0\n",
      "Enter the element into the array: -1\n",
      "Enter the element into the array: 2\n",
      "Enter the element into the array: -3\n",
      "Enter the element into the array: 1\n"
     ]
    },
    {
     "name": "stdout",
     "output_type": "stream",
     "text": [
      "The elements of the array are:  [0, -1, 2, -3, 1]\n"
     ]
    },
    {
     "name": "stdin",
     "output_type": "stream",
     "text": [
      "Enter the target: -2\n"
     ]
    },
    {
     "name": "stdout",
     "output_type": "stream",
     "text": [
      "Two sum pair exists into the array.\n"
     ]
    }
   ],
   "source": [
    "# https://www.geeksforgeeks.org/check-if-pair-with-given-sum-exists-in-array/\n",
    "# Native approach: Time complexity O(n^2) Space Complexity O(1)\n",
    "def two_sum_a(arr,target):\n",
    "    for i in range(len(arr)):\n",
    "        for j in range(i+1,len(arr)):\n",
    "            if(arr[i]+arr[j]==target):\n",
    "                return True\n",
    "    else:\n",
    "        return False\n",
    "\n",
    "# Using sorting and binary search \n",
    "# Time Complexity: O(n*log(n)), for sorting the array\n",
    "# Auxiliary Space: O(1)\n",
    "def binary_search(arr,complement, left,right):\n",
    "    mid=left+(right-left)//2\n",
    "    while(left<=right):\n",
    "        if(arr[mid]==complement):\n",
    "            return True\n",
    "        elif(arr[mid]<=complement):\n",
    "            left=mid+1\n",
    "        else:\n",
    "            right=mid-1\n",
    "    return False\n",
    "def two_sum_b(arr, target):\n",
    "    arr.sort()\n",
    "    for i in range(len(arr)):\n",
    "        complement=target-arr[i]\n",
    "        if(binary_search(arr,complement,i+1,len(arr))):\n",
    "            return True\n",
    "    else:\n",
    "        return False\n",
    "l=int(input(\"Enter the length of the array\"))\n",
    "a=[]\n",
    "for i in range(l):\n",
    "    x=int(input(\"Enter the element into the array:\"))\n",
    "    a.append(x)\n",
    "print(\"The elements of the array are: \",a)\n",
    "target=int(input(\"Enter the target:\"))\n",
    "if two_sum_b(a,target):\n",
    "    print(\"Two sum pair exists into the array.\")\n",
    "else:\n",
    "    print(\"Two sum pair does not exists in the array.\")\n"
   ]
  },
  {
   "cell_type": "code",
   "execution_count": 15,
   "id": "aa90d6f0-e724-4798-ab76-d8f35030831e",
   "metadata": {},
   "outputs": [
    {
     "name": "stdin",
     "output_type": "stream",
     "text": [
      "Enter the length of the array 7\n",
      "Enter the element into the array: 1\n",
      "Enter the element into the array: 1\n",
      "Enter the element into the array: 2\n",
      "Enter the element into the array: 1\n",
      "Enter the element into the array: 3\n",
      "Enter the element into the array: 5\n",
      "Enter the element into the array: 1\n"
     ]
    },
    {
     "name": "stdout",
     "output_type": "stream",
     "text": [
      "The elements of the array are:  [1, 1, 2, 1, 3, 5, 1]\n",
      "The majority element in the array is :1\n"
     ]
    }
   ],
   "source": [
    "# https://www.geeksforgeeks.org/majority-element/\n",
    "def majority_element(arr):\n",
    "    for i in range(len(arr)):\n",
    "        count=0\n",
    "        for j in range(len(arr)):\n",
    "            if(arr[j]==arr[i]):\n",
    "                count+=1\n",
    "            else:\n",
    "                pass\n",
    "        if count>len(arr)//2:\n",
    "            return arr[i]\n",
    "    else:\n",
    "        return None\n",
    "l=int(input(\"Enter the length of the array\"))\n",
    "a=[]\n",
    "for i in range(l):\n",
    "    x=int(input(\"Enter the element into the array:\"))\n",
    "    a.append(x)\n",
    "print(\"The elements of the array are: \",a)\n",
    "if (majority_element(a) is not None):\n",
    "    print(\"The majority element in the array is :{0}\".format(majority_element(a)))\n",
    "else:\n",
    "    print(\"There is no majority element in the array.\")"
   ]
  },
  {
   "cell_type": "code",
   "execution_count": 6,
   "id": "ee08614c-658b-446e-ae84-a62a13ae1393",
   "metadata": {},
   "outputs": [
    {
     "name": "stdin",
     "output_type": "stream",
     "text": [
      "Enter the length of the array 7\n",
      "Enter the element into the array: 1\n",
      "Enter the element into the array: 5\n",
      "Enter the element into the array: 2\n",
      "Enter the element into the array: 1\n",
      "Enter the element into the array: 3\n",
      "Enter the element into the array: 1\n",
      "Enter the element into the array: 7\n"
     ]
    },
    {
     "name": "stdout",
     "output_type": "stream",
     "text": [
      "The elements of the array are:  [1, 5, 2, 1, 3, 1, 7]\n",
      "The element that occcured odd number of times is 7\n",
      "The element that occcured odd number of times is 7\n"
     ]
    }
   ],
   "source": [
    "# https://www.geeksforgeeks.org/find-the-number-occurring-odd-number-of-times/\n",
    "\n",
    "\n",
    "# Time Complexity: O(n^2)\n",
    "# Auxiliary Space: O(1)\n",
    "def odd_times(arr):\n",
    "    for i in range(len(arr)):\n",
    "        max_odd_element=[]\n",
    "        count=0\n",
    "        for j in range(len(arr)):\n",
    "            if(arr[i]==arr[j]):\n",
    "                count+=-1\n",
    "        if(count%2!=0):\n",
    "            max_odd_element.append(arr[i])\n",
    "    if not max_odd_element:\n",
    "        return None\n",
    "    else:\n",
    "        return max(arr)\n",
    "l=int(input(\"Enter the length of the array\"))\n",
    "a=[]\n",
    "for i in range(l):\n",
    "    x=int(input(\"Enter the element into the array:\"))\n",
    "    a.append(x)\n",
    "print(\"The elements of the array are: \",a)\n",
    "if(odd_times(a) is not None):\n",
    "    print(\"The element that occcured odd number of times is {0}\".format(odd_times(a)))\n",
    "else:\n",
    "    print(\"No element occured odd number of times!\")\n",
    "\n",
    "# Using Hashing to find element with odd number of occurance\n",
    "def odd_occurances(arr):\n",
    "    Hash=dict()\n",
    "    for i in range(len(arr)):\n",
    "        Hash[arr[i]]=Hash.get(arr[i],0)+1\n",
    "    for i in Hash:\n",
    "        if i%2!=0:\n",
    "            return i\n",
    "    else:\n",
    "        return None\n",
    "\n",
    "if(odd_occurances(a) is not None):\n",
    "    print(\"The element that occcured odd number of times is {0}\".format(odd_times(a)))\n",
    "else:\n",
    "    print(\"No element occured odd number of times!\")"
   ]
  },
  {
   "cell_type": "markdown",
   "id": "e86c668d-ab11-4999-8cff-58cb3755843a",
   "metadata": {},
   "source": [
    "Strings"
   ]
  },
  {
   "cell_type": "code",
   "execution_count": 49,
   "id": "11e9a0a4-024a-420b-bdd6-662890416c2c",
   "metadata": {},
   "outputs": [
    {
     "name": "stdin",
     "output_type": "stream",
     "text": [
      "Enter the string: Geekforgeeks\n"
     ]
    },
    {
     "name": "stdout",
     "output_type": "stream",
     "text": [
      "The string after removing the duplicate characters are: Gekforgs\n"
     ]
    }
   ],
   "source": [
    "# https://www.geeksforgeeks.org/remove-duplicates-from-a-given-string/\n",
    "def remove_duplicate(my_str):\n",
    "    seen=set()\n",
    "    result=[]\n",
    "    for char in my_str:\n",
    "        if char not in seen:\n",
    "            result.append(char)\n",
    "            seen.add(char)\n",
    "    return ''.join(result)\n",
    "my_str=input(\"Enter the string:\")\n",
    "print(f\"The string after removing the duplicate characters are: {remove_duplicate(my_str)}\")"
   ]
  },
  {
   "cell_type": "code",
   "execution_count": 53,
   "id": "71462bbd-bdf7-49cf-beb2-acb3080b574b",
   "metadata": {},
   "outputs": [
    {
     "name": "stdin",
     "output_type": "stream",
     "text": [
      "Enter the first string: computer\n",
      "Enter the second string: cats\n"
     ]
    },
    {
     "name": "stdout",
     "output_type": "stream",
     "text": [
      "The string 1 with characters that are not in string 2 is: ompuer\n"
     ]
    }
   ],
   "source": [
    "# https://www.geeksforgeeks.org/remove-characters-from-the-first-string-which-are-present-in-the-second-string/\n",
    "def remove_characters(string1,string2):\n",
    "    seen=set()\n",
    "    for i in string2:\n",
    "        seen.add(i)\n",
    "    result=[char for char in string1 if char not in seen]\n",
    "    return ''.join(result)\n",
    "string1=input(\"Enter the first string:\")\n",
    "string2=input(\"Enter the second string:\")\n",
    "print(f\"The string 1 with characters that are not in string 2 is: {remove_characters(string1,string2)}\")"
   ]
  },
  {
   "cell_type": "code",
   "execution_count": 55,
   "id": "38900078-87c3-43db-ba74-e40daa5052c5",
   "metadata": {},
   "outputs": [
    {
     "name": "stdin",
     "output_type": "stream",
     "text": [
      "Enter the first string: aab\n",
      "Enter the second string: aba\n"
     ]
    },
    {
     "name": "stdout",
     "output_type": "stream",
     "text": [
      "True\n"
     ]
    }
   ],
   "source": [
    "# https://www.geeksforgeeks.org/a-program-to-check-if-strings-are-rotations-of-each-other/\n",
    "def rotation_check(string1,string2):\n",
    "    return (len(string1)==len(string2)) and string2 in (string2+string1)\n",
    "str1=input(\"Enter the first string:\")\n",
    "str2=input(\"Enter the second string:\")\n",
    "print(\"True\" if rotation_check(str1,str2) else \"False\")"
   ]
  },
  {
   "cell_type": "code",
   "execution_count": 75,
   "id": "a8b46bde-65fc-4744-a32b-efa51bc1311c",
   "metadata": {},
   "outputs": [
    {
     "name": "stdin",
     "output_type": "stream",
     "text": [
      "Enter the string for which you want to find the permutations abc\n"
     ]
    },
    {
     "name": "stdout",
     "output_type": "stream",
     "text": [
      "['abc', 'acb', 'bac', 'bca', 'cab', 'cba']\n",
      "abc\n",
      "acb\n",
      "bac\n",
      "bca\n",
      "cab\n",
      "cba\n"
     ]
    }
   ],
   "source": [
    "# https://www.geeksforgeeks.org/write-a-c-program-to-print-all-permutations-of-a-given-string/\n",
    "from itertools import permutations\n",
    "def permutation(str):\n",
    "    return [''.join(i) for i in permutations(str)]\n",
    "str=input(\"Enter the string for which you want to find the permutations\")\n",
    "result=permutation(str)\n",
    "print(result)\n",
    "for i in result:\n",
    "    print(i)"
   ]
  },
  {
   "cell_type": "code",
   "execution_count": 77,
   "id": "66d29ca4-3578-4726-a154-83c7a4b27e7a",
   "metadata": {},
   "outputs": [
    {
     "name": "stdin",
     "output_type": "stream",
     "text": [
      "Enter the string: ..geeks..for.geeks.\n"
     ]
    },
    {
     "name": "stdout",
     "output_type": "stream",
     "text": [
      "The reversed string is: geeks.for.geeks\n"
     ]
    }
   ],
   "source": [
    "#Program to reverse words in a string\n",
    "def reversed(str):\n",
    "    words=[word for word in str.split('.') if word]\n",
    "    # the if word basically filters out the empty strings generated because of the dots\n",
    "    words.reverse()\n",
    "    return '.'.join(words)\n",
    "str=input(\"Enter the string:\")\n",
    "print(f\"The reversed string is: {reversed(str)}\")"
   ]
  },
  {
   "cell_type": "code",
   "execution_count": 81,
   "id": "6406bd95-d07a-4821-a8f3-273a86483111",
   "metadata": {},
   "outputs": [
    {
     "name": "stdin",
     "output_type": "stream",
     "text": [
      "Enter the first string: geeks\n",
      "Enter the second string: skeeg\n"
     ]
    },
    {
     "name": "stdout",
     "output_type": "stream",
     "text": [
      "The two strings are anagrams of each other\n"
     ]
    }
   ],
   "source": [
    "# https://www.geeksforgeeks.org/check-whether-two-strings-are-anagram-of-each-other/\n",
    "def are_anagrams(str1,str2):\n",
    "    s1=sorted(str1)\n",
    "    s2=sorted(str2)\n",
    "    if s1==s2:\n",
    "        return True\n",
    "    else:\n",
    "        return False\n",
    "str1=input(\"Enter the first string:\")\n",
    "str2=input(\"Enter the second string:\")\n",
    "if(are_anagrams(str1,str2)):\n",
    "    print(\"The two strings are anagrams of each other\")\n",
    "else:\n",
    "    print(\"The two strings are not anagrams\")"
   ]
  },
  {
   "cell_type": "code",
   "execution_count": 83,
   "id": "dde8fd8f-a85a-4dba-80b4-6e38342b3ca1",
   "metadata": {},
   "outputs": [
    {
     "name": "stdin",
     "output_type": "stream",
     "text": [
      "Enter the string: -0012g4\n"
     ]
    },
    {
     "name": "stdout",
     "output_type": "stream",
     "text": [
      "-12\n"
     ]
    }
   ],
   "source": [
    "# https://www.geeksforgeeks.org/write-your-own-atoi/\n",
    "def myAtoi(s: str)->int:\n",
    "    sign=1\n",
    "    res=0\n",
    "    idx=0\n",
    "    # Ignore the leading whitespaces\n",
    "    while idx<len(s) and s[idx]==' ':\n",
    "        idx+=1\n",
    "    # Stores the sign of a number\n",
    "    if idx<len(s) and (s[idx]=='-' or s[idx]=='+'):\n",
    "        if s[idx]=='-':\n",
    "            sign=-1\n",
    "        idx+=1\n",
    "    # Construct the number digit by digit\n",
    "    while idx<len(s) and '0'<=s[idx]<='9':\n",
    "        # Append current digit to the result\n",
    "        res=10*res+(ord(s[idx])-ord('0'))\n",
    "        # Handling the overflow and underflow test case\n",
    "        if res>(2**31-1):\n",
    "            return sign*(2**31-1) if sign==1 else -2**31\n",
    "        idx+=1\n",
    "    return res*sign\n",
    "        \n",
    "x=input(\"Enter the string:\")\n",
    "print(myAtoi(x))"
   ]
  },
  {
   "cell_type": "markdown",
   "id": "dc04a6c2-8dd8-40ab-9672-6a0a78349fea",
   "metadata": {},
   "source": [
    "Linked List:"
   ]
  },
  {
   "cell_type": "code",
   "execution_count": 12,
   "id": "7c1e880c-a519-48c3-841d-427e393b4b59",
   "metadata": {},
   "outputs": [
    {
     "name": "stdout",
     "output_type": "stream",
     "text": [
      "10->20->30->40->None\n",
      "The 3rd node is: 30\n"
     ]
    }
   ],
   "source": [
    "# https://www.geeksforgeeks.org/write-a-function-to-get-nth-node-in-a-linked-list/\n",
    "class Node:\n",
    "    def __init__(self,data):\n",
    "        self.data=data # The data of the node\n",
    "        self.next=None # The pointer to the next node in the list\n",
    "class LinkedList:\n",
    "    def __init__(self):\n",
    "        self.head=None # Initially the list is empty so the head is none\n",
    "    def append(self,data):\n",
    "        # create a new node with the given data\n",
    "        new_node=Node(data)\n",
    "        if not self.head:\n",
    "            self.head=new_node\n",
    "        else:\n",
    "             # If the list is not empty, traverse to the last node and link it to the new node\n",
    "            current=self.head\n",
    "            while current.next:\n",
    "                current=current.next\n",
    "            current.next=new_node\n",
    "    def get_nth_node(self,n):\n",
    "        #start from the head node:\n",
    "        current=self.head\n",
    "        #initialise a counter to track the position of the current node\n",
    "        count=1\n",
    "        while current:\n",
    "            if count==n: #when we reach the nth node\n",
    "                return current\n",
    "            current+=1\n",
    "            current=current.next\n",
    "        # If the Nth node doesn't exist (list has fewer than N nodes)\n",
    "        return None\n",
    "    def print_list(self):\n",
    "        current=self.head\n",
    "        while current:\n",
    "            print(current.data,end='->')\n",
    "            current=current.next\n",
    "        print(\"None\")\n",
    "        \n",
    "# Example usage\n",
    "l1=LinkedList()\n",
    "l1.append(10)\n",
    "l1.append(20)\n",
    "l1.append(30)\n",
    "l1.append(40)\n",
    "l1.print_list()\n",
    "                \n",
    "# Get the 3rd node\n",
    "nth_node = ll.get_nth_node(3)\n",
    "if nth_node:\n",
    "    print(f\"The 3rd node is: {nth_node.data}\")\n",
    "else:\n",
    "    print(\"The 3rd node does not exist.\")"
   ]
  },
  {
   "cell_type": "code",
   "execution_count": 36,
   "id": "01abdb75-c1d4-406a-8d53-f11bec0ac8de",
   "metadata": {},
   "outputs": [
    {
     "name": "stdout",
     "output_type": "stream",
     "text": [
      "10 -> 30 -> 40 -> 50 -> None\n"
     ]
    }
   ],
   "source": [
    "# https://www.geeksforgeeks.org/given-only-a-pointer-to-a-node-to-be-deleted-in-a-singly-linked-list-how-do-you-delete-it/\n",
    "class Node:\n",
    "    def __init__(self,data):\n",
    "        self.data=data\n",
    "        self.next=None\n",
    "def delete_node(node_to_delete):\n",
    "    if node_to_delete is None or node_to_delete.next is None:\n",
    "        return\n",
    "        raise ValueError(\"Cannot delete the last node or a null node with this method\")\n",
    "    next_node=node_to_delete.next\n",
    "    node_to_delete.data=next_node.data\n",
    "    # Bypass the next node\n",
    "    node_to_delete.next=next_node.next\n",
    "    #delete the next node if applicable\n",
    "    del next_node\n",
    "if __name__ == \"__main__\":\n",
    "    \n",
    "    head=Node(10)\n",
    "    head.next=Node(20)\n",
    "    head.next.next=Node(30)\n",
    "    head.next.next.next=Node(40)\n",
    "    head.next.next.next.next=Node(50)\n",
    "     # Delete the node with value 20\n",
    "    delete_node(head.next)  # Pass the pointer to the node to be deleted\n",
    "    \n",
    "     # Print the updated linked list: 10 -> 30 -> 40\n",
    "    current = head\n",
    "    while current:\n",
    "        print(current.data, end=\" -> \")\n",
    "        current = current.next\n",
    "    print(\"None\")"
   ]
  },
  {
   "cell_type": "code",
   "execution_count": 14,
   "id": "3eb6e0e7-d9ae-4dff-bced-9f2d61d0b505",
   "metadata": {},
   "outputs": [
    {
     "name": "stdin",
     "output_type": "stream",
     "text": [
      "Enter the number of elements that you want to enter into the linked list: 5\n",
      "Enter the first element into the linked list: 10\n",
      "Enter the first element into the linked list: 20\n",
      "Enter the first element into the linked list: 30\n",
      "Enter the first element into the linked list: 40\n",
      "Enter the first element into the linked list: 50\n"
     ]
    },
    {
     "name": "stdout",
     "output_type": "stream",
     "text": [
      "The elements of the linked list and its length are as follows:\n",
      "\n",
      "10->20->30->40->50->None\n",
      "\n",
      "The length of the linked list is : 5\n"
     ]
    },
    {
     "name": "stdin",
     "output_type": "stream",
     "text": [
      "Enter the position of the element from the end: 3\n"
     ]
    },
    {
     "name": "stdout",
     "output_type": "stream",
     "text": [
      "The 3 element from the end is 30\n"
     ]
    }
   ],
   "source": [
    "#Create a linked list to insert elements into the linked list and then find the element in the middle position\n",
    "# https://www.geeksforgeeks.org/nth-node-from-the-end-of-a-linked-list/\n",
    "class Node:\n",
    "    def __init__(self,data):\n",
    "        self.data=data\n",
    "        self.next=None\n",
    "class Linked_list:\n",
    "    def __init__(self):\n",
    "        self.head=None\n",
    "    def append_node(self,data):\n",
    "        new_node=Node(data)\n",
    "        if not self.head:\n",
    "            self.head=new_node\n",
    "        else:\n",
    "            current=self.head\n",
    "            while current.next:\n",
    "                current=current.next\n",
    "            current.next=new_node\n",
    "        return None\n",
    "    def print_linkedList_length(self):\n",
    "        current=self.head\n",
    "        length=0\n",
    "        while current:\n",
    "            length+=1\n",
    "            print(current.data,end=\"->\")\n",
    "            current=current.next\n",
    "        print(\"None\")\n",
    "        print(f\"\\nThe length of the linked list is : {length}\")\n",
    "    def element_from_end(self,pos_start):\n",
    "        current=self.head\n",
    "        counter=1\n",
    "        while current:\n",
    "            if counter==pos_start:\n",
    "                return current.data\n",
    "            current=current.next\n",
    "            counter+=1\n",
    "        return None\n",
    "if __name__==\"__main__\":        \n",
    "    n=int(input(\"Enter the number of elements that you want to enter into the linked list:\"))\n",
    "    l1=Linked_list()\n",
    "    for i in range(n):\n",
    "        x=int(input(\"Enter the first element into the linked list:\"))\n",
    "        l1.append_node(x)\n",
    "    print(\"The elements of the linked list and its length are as follows:\\n\")\n",
    "    l1.print_linkedList_length()\n",
    "    pos=int(input(\"Enter the position of the element from the end:\"))\n",
    "    print(f\"The {pos} element from the end is {l1.element_from_end(n-pos+1)}\")\n",
    "    \n",
    "    "
   ]
  },
  {
   "cell_type": "code",
   "execution_count": 50,
   "id": "aef3832c-0d2e-4210-b788-18b22a72be9b",
   "metadata": {},
   "outputs": [
    {
     "name": "stdout",
     "output_type": "stream",
     "text": [
      "40\n"
     ]
    }
   ],
   "source": [
    "# https://www.geeksforgeeks.org/write-a-c-function-to-print-the-middle-of-the-linked-list/\n",
    "class Node:\n",
    "    def __init__(self,data):\n",
    "        self.data=data\n",
    "        self.next=None\n",
    "def get_length(head):\n",
    "    # variable to store the length\n",
    "    length=0\n",
    "    while head:\n",
    "        length+=1\n",
    "        head=head.next\n",
    "    return length\n",
    "def get_middle(head):\n",
    "    # Traverse till we reach half of the length\n",
    "    length=get_length(head)\n",
    "    mid_index=length//2\n",
    "    while mid_index:\n",
    "        head=head.next\n",
    "        mid_index-=1\n",
    "    return head.data\n",
    "def main():\n",
    "    head=Node(10)\n",
    "    head.next=Node(20)\n",
    "    head.next.next=Node(30)\n",
    "    head.next.next.next=Node(40)\n",
    "    head.next.next.next.next=Node(50)\n",
    "    head.next.next.next.next.next=Node(60)\n",
    "    print(get_middle(head))\n",
    "if __name__==\"__main__\":\n",
    "    main()"
   ]
  },
  {
   "cell_type": "code",
   "execution_count": null,
   "id": "227dc7f5-5ed6-4bb3-9092-35f40e7c5c76",
   "metadata": {},
   "outputs": [],
   "source": [
    "# https://www.geeksforgeeks.org/write-a-function-to-delete-a-linked-list/\n",
    "class Node:\n",
    "    def __init__(self):\n",
    "        self.data=data\n",
    "        self.next=None\n",
    "if __name__==\"__main__\":\n",
    "    head=Node(10)\n",
    "    head.next=Node(20)\n",
    "    head.next.next=Node(30)\n",
    "    head.next.next.next=Node(40)\n",
    "    head.next.next.next.next=Node(50)\n",
    "    head=None\n",
    "    # Set the head to node to value None to remove the reference to the linked list\n",
    "    # This allows the python garbage collector to automatically reclaim the memory consumed by the nodes\n",
    "    print(\"NULL\")"
   ]
  },
  {
   "cell_type": "code",
   "execution_count": 46,
   "id": "270d98bd-51a4-460a-941b-c2c5fa31d140",
   "metadata": {},
   "outputs": [
    {
     "name": "stdin",
     "output_type": "stream",
     "text": [
      "Enter the number of elements that you want to enter into the linked list: 5\n",
      "Enter the element to be inserted: 10\n",
      "Enter the element to be inserted: 20\n",
      "Enter the element to be inserted: 30\n",
      "Enter the element to be inserted: 40\n",
      "Enter the element to be inserted: 50\n"
     ]
    },
    {
     "name": "stdout",
     "output_type": "stream",
     "text": [
      "Original Linked List:\n",
      "\n",
      "10->20->30->40->50->None\n",
      "The reversed Linked List is:\n",
      "10->20->30->40->50->None\n"
     ]
    }
   ],
   "source": [
    "#### https://www.geeksforgeeks.org/reverse-a-linked-list/\n",
    "# Program to reverse a linked list\n",
    "class Node:\n",
    "    def __init__(self,data):\n",
    "        self.data=data\n",
    "        self.next=None\n",
    "class LinkedList:\n",
    "    def __init__(self):\n",
    "        self.head=None\n",
    "    def append_list(self,data):\n",
    "        new_node=Node(data)\n",
    "        if not self.head:\n",
    "            self.head=new_node\n",
    "        else:\n",
    "            current=self.head\n",
    "            while current.next:\n",
    "                current=current.next\n",
    "            current.next=new_node\n",
    "    def print_list(self):\n",
    "        current=self.head\n",
    "        while current:\n",
    "            print(current.data,end=\"->\")\n",
    "            current=current.next\n",
    "        print(\"None\")\n",
    "    def reverse_linkedList(self):\n",
    "        current=self.head\n",
    "        prev=None\n",
    "        while current:\n",
    "            next_node=current.next #Store the next node information\n",
    "            current.next=prev #set the next node to value of prev\n",
    "            prev=current #set prev value as the current node\n",
    "            current=next_node\n",
    "        self.head=prev\n",
    "def main():\n",
    "    l1=LinkedList()\n",
    "    n=int(input(\"Enter the number of elements that you want to enter into the linked list:\"))\n",
    "    for i in range(n):\n",
    "        x=int(input(\"Enter the element to be inserted:\"))\n",
    "        l1.append_list(x)\n",
    "    print(\"Original Linked List:\\n\")\n",
    "    l1.print_list()\n",
    "    reversed_head=l1.reverse_linkedList()\n",
    "    l1.reverse_linkedList()\n",
    "    print(\"The reversed Linked List is:\")\n",
    "    l1.print_list()\n",
    "if __name__==\"__main__\":\n",
    "    main()"
   ]
  },
  {
   "cell_type": "code",
   "execution_count": 2,
   "id": "9d670166-9a98-4f60-81bf-38b911b3cfd3",
   "metadata": {},
   "outputs": [
    {
     "name": "stdin",
     "output_type": "stream",
     "text": [
      "Enter the number of element that you want to enter into the linked list: 5\n",
      "Enter the element: 10\n",
      "Enter the element: 20\n",
      "Enter the element: 30\n",
      "Enter the element: 40\n",
      "Enter the element: 50\n"
     ]
    },
    {
     "name": "stdout",
     "output_type": "stream",
     "text": [
      "The linked list contains a loop: True\n"
     ]
    }
   ],
   "source": [
    "# https://www.geeksforgeeks.org/detect-loop-in-a-linked-list/\n",
    "class Node:\n",
    "    def __init__(self,data):\n",
    "        self.data=data\n",
    "        self.next=None\n",
    "class Linked_list:\n",
    "    def __init__(self):\n",
    "        self.head=None\n",
    "    def append_list(self,data):\n",
    "        new_node=Node(data)\n",
    "        if not self.head:\n",
    "            self.head=new_node\n",
    "        else:\n",
    "            current=self.head\n",
    "            while current.next:\n",
    "                current=current.next\n",
    "            current.next=new_node\n",
    "    def print_list(self):\n",
    "        current=self.head\n",
    "        while current:\n",
    "            print(current.data,end=\"->\")\n",
    "            current=current.next\n",
    "        print(\"None\")\n",
    "    def check_loop(self):\n",
    "        st=set()\n",
    "        current=self.head\n",
    "        while current is not None:\n",
    "            if current in st:\n",
    "                return True\n",
    "            st.add(current)\n",
    "            current=current.next\n",
    "        return False\n",
    "if __name__==\"__main__\":\n",
    "    l1=Linked_list()\n",
    "    n=int(input(\"Enter the number of element that you want to enter into the linked list:\"))\n",
    "    for i in range(n):\n",
    "        x=int(input(\"Enter the element:\"))\n",
    "        l1.append_list(x)\n",
    "    # manually creating a loop for tesing:\n",
    "    if l1.head and l1.head.next:\n",
    "        l1.head.next.next=l1.head\n",
    "    # print(\"The elements of the linked list are :\\n\")\n",
    "    # l1.print_list()\n",
    "    print(f\"The linked list contains a loop: {l1.check_loop()}\")\n",
    "            "
   ]
  },
  {
   "cell_type": "code",
   "execution_count": 12,
   "id": "be72ea46-ee80-4a5c-989d-41d970bd9752",
   "metadata": {},
   "outputs": [
    {
     "name": "stdin",
     "output_type": "stream",
     "text": [
      "Enter the number of elements that you want to enter into the linked list: 5\n",
      "Enter the element of the list: 10\n",
      "Enter the element of the list: 20\n",
      "Enter the element of the list: 30\n",
      "Enter the element of the list: 20\n",
      "Enter the element of the list: 10\n"
     ]
    },
    {
     "name": "stdout",
     "output_type": "stream",
     "text": [
      "The linked list is a palindrome\n"
     ]
    }
   ],
   "source": [
    "# https://www.geeksforgeeks.org/function-to-check-if-a-singly-linked-list-is-palindrome/\n",
    "class Node:\n",
    "    def __init__(self,data):\n",
    "        self.data=data\n",
    "        self.next=None\n",
    "class Linked_list:\n",
    "    def __init__(self):\n",
    "        self.head=None\n",
    "    def append_list(self,data):\n",
    "        new_node=Node(data)\n",
    "        if not self.head:\n",
    "            self.head=new_node\n",
    "        else:\n",
    "            current=self.head\n",
    "            while current.next:\n",
    "                current=current.next\n",
    "            current.next=new_node\n",
    "    def palindrome_check(self):\n",
    "        lst=[]\n",
    "        current=self.head\n",
    "        # Pushing all the elements of the list into the stack\n",
    "        while current:\n",
    "            lst.append(current.data)\n",
    "            current=current.next\n",
    "        current=self.head\n",
    "        while current is not None:\n",
    "            s=lst.pop()\n",
    "            if current.data!=s:\n",
    "                return False\n",
    "            current=current.next\n",
    "        return True\n",
    "if __name__==\"__main__\":\n",
    "    n=int(input(\"Enter the number of elements that you want to enter into the linked list:\"))\n",
    "    l=Linked_list()\n",
    "    for i in range(n):\n",
    "        x=int(input(\"Enter the element of the list:\"))\n",
    "        l.append_list(x)\n",
    "    if l.palindrome_check():\n",
    "        print(\"The linked list is a palindrome\")\n",
    "    else:\n",
    "        print(\"The linked list is not a palindrome\")"
   ]
  },
  {
   "cell_type": "code",
   "execution_count": null,
   "id": "d7737f4d-abd4-4eab-b452-6be6d9c209a1",
   "metadata": {},
   "outputs": [],
   "source": [
    "# https://www.geeksforgeeks.org/add-two-numbers-represented-by-linked-list/\n",
    "class Node:\n",
    "    def __init__(self,data):\n",
    "        self.data=data\n",
    "        self.next=None\n",
    "class Linked_list:\n",
    "    def __init__(self):\n",
    "        self.head=None\n",
    "    def append_list(self,data):\n",
    "        new_node=Node(data)\n",
    "        if not self.head:\n",
    "            self.head=new_node\n",
    "        else:\n",
    "            current=self.head\n",
    "            while current.next:\n",
    "                current=current.next\n",
    "            current.next=new_node\n",
    "    def print_list(self):\n",
    "        current=self.head\n",
    "        while current:\n",
    "            print(current.data,end=\"->\")\n",
    "            current=current.next\n",
    "        print(\"None\")\n",
    "    def reverse_list(self):\n",
    "        curr=self.head\n",
    "        prev=None\n",
    "        while curr:\n",
    "            nextNode=curr.next\n",
    "            curr.next=prev\n",
    "            prev=curr\n",
    "            curr=nextNode\n",
    "        self.head=prev\n",
    "    def trim_leading_zeroes(self):\n",
    "        while self.head and self.head.data==0:\n",
    "            self.head=self.head.next\n",
    "    def add_two_lists(self,num1,num2):\n",
    "        res=None\n",
    "        curr=None\n",
    "        carry=0\n",
    "        num1=trim_leading_zeroes(num1)\n",
    "        num2=trim_leading_zeroes(num2)\n",
    "        num1.reverse_list()\n",
    "        num2.reverse_list()\n",
    "        while num1 is not None or num2 is not None or carry!=0:\n",
    "            sumValue=carry\n",
    "            if num1 is not None:\n",
    "                sumValue+=num1.data\n",
    "                num1=num1.next\n",
    "            if num2 is not None:\n",
    "                sumValue+=num2.data\n",
    "                num2=num2.next \n",
    "            newNode=Node(sumvalue%10)\n",
    "            carry=sumValue//10\n",
    "            if res is None:\n",
    "                res=newNode\n",
    "                curr=newNode\n",
    "            else:\n",
    "                curr.next=newNode\n",
    "                curr=curr.next\n",
    "        return res.reverse_list()\n",
    "if __name__==\"__main__\":\n",
    "    l1=Linked_list()\n",
    "    l2=Linked_list()\n",
    "    n1=int(input(\"Enter the no of elements that you want to enter into the first linked list:\"))\n",
    "    for i in range(n1):\n",
    "        x=int(input(\"Enter the element:\"))\n",
    "        l1.append_list(x)\n",
    "    n2=int(input(\"Enter the no of elements that you want to enter into the second linked list:\"))\n",
    "    for i in range(n2):\n",
    "        x=int(input(\"Enter the element:\"))\n",
    "        l2.append_list(x)\n",
    "    print(\"First linked list:\")\n",
    "    l1.print_list()\n",
    "    print(\"Second linked list:\")\n",
    "    l2.printis_list()\n",
    "\n",
    "    l1.reverse_list()\n",
    "    l2.reverse_list()\n",
    "    \n",
    "    print(\"First linked list:\")\n",
    "    l1.print_list()\n",
    "    print(\"Second linked list:\")\n",
    "    l2.print_list()\n"
   ]
  },
  {
   "cell_type": "markdown",
   "id": "c7a57b8f-acd2-41a6-873c-32fdecdca350",
   "metadata": {},
   "source": [
    "Stack"
   ]
  },
  {
   "cell_type": "code",
   "execution_count": 54,
   "id": "c94cf8d3-f17f-4888-bd3b-26cb7aa24726",
   "metadata": {},
   "outputs": [
    {
     "name": "stdout",
     "output_type": "stream",
     "text": [
      "3\n",
      "15\n",
      "15\n",
      "12\n"
     ]
    }
   ],
   "source": [
    "# List based stack implementation:\n",
    "class Stack:\n",
    "    def __init__(self):\n",
    "        self.stack=[]\n",
    "    def push(self,item):\n",
    "        self.stack.append(item)\n",
    "    def pop(self):\n",
    "        if not self.is_empty():\n",
    "            return self.stack.pop()\n",
    "        raise IndexError(\"Pop from empty stack\")\n",
    "    def peek(self):\n",
    "        if not self.is_empty():\n",
    "            return self.stack[-1]\n",
    "        raise indexError(\"Peek from empty stack\")\n",
    "    def is_empty(self):\n",
    "        return len(self.stack)==0\n",
    "    def size(self):\n",
    "        return len(self.stack)\n",
    "arr=Stack()\n",
    "arr.push(10)\n",
    "arr.push(12)\n",
    "arr.push(15)\n",
    "print(arr.size())\n",
    "print(arr.peek())\n",
    "print(arr.pop())\n",
    "print(arr.peek())"
   ]
  },
  {
   "cell_type": "code",
   "execution_count": 33,
   "id": "2066072c-f5db-47e9-a950-b12ceb309254",
   "metadata": {},
   "outputs": [
    {
     "name": "stdout",
     "output_type": "stream",
     "text": [
      "15\n",
      "15\n",
      "2\n",
      "12\n"
     ]
    }
   ],
   "source": [
    "# Stack implementation using linked list\n",
    "class Node:\n",
    "    def __init__(self,value):\n",
    "        self.value=value\n",
    "        self.next=None\n",
    "class Stack:\n",
    "    def __init__(self):\n",
    "        self.top=None\n",
    "        self._size=0\n",
    "    def push(self,item):\n",
    "        new_node=Node(item)\n",
    "        new_node.next=self.top\n",
    "        self.top=new_node\n",
    "        self._size+=1\n",
    "    def pop(self):\n",
    "        if self.is_empty():\n",
    "            raise IndexError(\"Pop from empty stack\")\n",
    "        item=self.top\n",
    "        self.top=self.top.next\n",
    "        self._size-=1\n",
    "        return item.value\n",
    "    def peek(self):\n",
    "        if self.is_empty():\n",
    "            raise IndexError(\"Peek from empty stack\")\n",
    "        return self.top.value\n",
    "    def is_empty(self):\n",
    "        return self.top is None\n",
    "    def size(self):\n",
    "        return self._size\n",
    "\n",
    "arr=Stack()\n",
    "arr.push(10)\n",
    "arr.push(12)\n",
    "arr.push(15)\n",
    "print(arr.peek())\n",
    "print(arr.pop())\n",
    "print(arr.size())\n",
    "print(arr.peek())"
   ]
  },
  {
   "cell_type": "code",
   "execution_count": 52,
   "id": "082eb5c7-b77f-407c-bf26-952e211fed32",
   "metadata": {},
   "outputs": [
    {
     "name": "stdin",
     "output_type": "stream",
     "text": [
      "Enter the string ()\n"
     ]
    },
    {
     "name": "stdout",
     "output_type": "stream",
     "text": [
      "The parantheses is balanced!\n"
     ]
    }
   ],
   "source": [
    "# Check for balanced parentheses: ()[]{} using a stack.\n",
    "def check_balanced(str):\n",
    "    bracket_map={')':'(',']':'[','}':'{'}\n",
    "    stack=[]\n",
    "    for char in str:\n",
    "        if char in bracket_map.values():\n",
    "            stack.append(char)\n",
    "        elif char in bracket_map:\n",
    "            if not stack or stack[-1]!=bracket_map[char]:\n",
    "                return False\n",
    "            stack.pop()\n",
    "        else:\n",
    "            return False \n",
    "    return not stack \n",
    "if __name__==\"__main__\":\n",
    "    str=input(\"Enter the string\")\n",
    "    if check_balanced(str):\n",
    "        print(\"The parantheses is balanced!\")\n",
    "    else:\n",
    "        print(\"The parantheses is not balanced\")"
   ]
  },
  {
   "cell_type": "code",
   "execution_count": 64,
   "id": "8efda14e-f2f4-4a12-878f-0b8ef447f212",
   "metadata": {},
   "outputs": [
    {
     "name": "stdout",
     "output_type": "stream",
     "text": [
      "30\n",
      "20\n",
      "20\n",
      "10\n"
     ]
    }
   ],
   "source": [
    "# Implement stack from queue\n",
    "from collections import deque\n",
    "class StackUsingQueues:\n",
    "    def __init__(self):\n",
    "        self.queue1=deque()\n",
    "        self.queue2=deque()\n",
    "    def push(self,x):\n",
    "        # Step 1: Enqueue into queue2\n",
    "        self.queue2.append(x)\n",
    "        while self.queue1:\n",
    "            # Step 2: Move all items from queue1 to queue2\n",
    "            self.queue2.append(self.queue1.popleft())\n",
    "        # Step 3: Swap queue1 and queue2\n",
    "        self.queue1,self.queue2=self.queue2,self.queue1\n",
    "    def pop(self):\n",
    "        if not self.queue1:\n",
    "            raise IndexError(\"Pop from empty stack\")\n",
    "        return self.queue1.popleft()\n",
    "    def top(self):\n",
    "        if not self.queue1:\n",
    "            raise IndexError(\"Top from empty stack\")\n",
    "        return self.queue1[0]\n",
    "    def is_empty(self):\n",
    "        return not self.queue1\n",
    "s=StackUsingQueues()\n",
    "s.push(10)\n",
    "s.push(20)\n",
    "s.push(30)\n",
    "print(s.pop())\n",
    "print(s.top())\n",
    "print(s.pop())\n",
    "print(s.top())"
   ]
  },
  {
   "cell_type": "code",
   "execution_count": 74,
   "id": "aaea172a-98b5-4a22-b26b-e0f88b5347ef",
   "metadata": {},
   "outputs": [
    {
     "name": "stdout",
     "output_type": "stream",
     "text": [
      "5\n",
      "5\n",
      "7\n",
      "7\n"
     ]
    }
   ],
   "source": [
    "# Design a Stack with getMin() in O(1) time\n",
    "# Maintain a secondary stack to track the minimum element\n",
    "class Stack:\n",
    "    def __init__(self):\n",
    "        self.main_stack=[]\n",
    "        self.min_stack=[]\n",
    "    def push(self,x):\n",
    "        self.main_stack.append(x)\n",
    "        if not self.min_stack:\n",
    "            self.min_stack.append(x)\n",
    "        else:\n",
    "            current_min=self.min_stack[-1]\n",
    "            self.min_stack.append(min(self.min_stack[-1],x))\n",
    "    def pop(self):\n",
    "        if not self.main_stack:\n",
    "            raise IndexError(\"Pop from empty stack\")\n",
    "        self.min_stack.pop()\n",
    "        return self.main_stack.pop()\n",
    "    def top(self):\n",
    "        if not self.main_stack:\n",
    "            raise IndexError(\"Top from empty stack\")\n",
    "        return self.main_stack[-1]\n",
    "    def getMin(self):\n",
    "        if not self.min_stack:\n",
    "            raise IndexError(\"Min from empty stack\")\n",
    "        return self.min_stack[-1]\n",
    "s=Stack()\n",
    "s.push(10)\n",
    "s.push(12)\n",
    "s.push(7)\n",
    "s.push(5)\n",
    "print(s.getMin())\n",
    "print(s.pop())\n",
    "print(s.top())\n",
    "print(s.getMin())"
   ]
  },
  {
   "cell_type": "code",
   "execution_count": 76,
   "id": "63955c2b-e2b3-4eb1-83b6-a9c0283d1d3e",
   "metadata": {},
   "outputs": [
    {
     "name": "stdin",
     "output_type": "stream",
     "text": [
      "Enter the string: abbaca\n"
     ]
    },
    {
     "name": "stdout",
     "output_type": "stream",
     "text": [
      "ca\n"
     ]
    }
   ],
   "source": [
    "# Remove all adjacent duplicates in a string:\n",
    "def remove_adjacent(str):\n",
    "    stack=[]\n",
    "    for char in str:\n",
    "        if not stack or stack[-1]!=char:\n",
    "            stack.append(char)\n",
    "        else:\n",
    "            stack.pop()\n",
    "    return ''.join(stack)\n",
    "if __name__==\"__main__\":\n",
    "    str=input(\"Enter the string:\")\n",
    "    print(remove_adjacent(str))"
   ]
  },
  {
   "cell_type": "code",
   "execution_count": 78,
   "id": "cf1c97f5-98f0-4e25-9aa0-8c80e0d1f97a",
   "metadata": {},
   "outputs": [
    {
     "name": "stdin",
     "output_type": "stream",
     "text": [
      "Enter the string 21+3*\n"
     ]
    },
    {
     "name": "stdout",
     "output_type": "stream",
     "text": [
      "9\n"
     ]
    }
   ],
   "source": [
    "# Implementing reverse polish notation also known as postfix notation using stack\n",
    "def postfix(str):\n",
    "    stack=[]\n",
    "    for char in str:\n",
    "        if char not in \"+-*/\":\n",
    "            stack.append(int(char))\n",
    "        else:\n",
    "            a=stack.pop()\n",
    "            b=stack.pop()\n",
    "            if char=='+':\n",
    "                stack.append(a+b)\n",
    "            elif char=='-':\n",
    "                stack.append(a-b)\n",
    "            elif char=='*':\n",
    "                stack.append(a*b)\n",
    "            elif char=='/':\n",
    "                stack.append(a/b)\n",
    "    return stack[0]\n",
    "if __name__==\"__main__\":\n",
    "    str=input(\"Enter the string\")\n",
    "    print(postfix(str))"
   ]
  },
  {
   "cell_type": "code",
   "execution_count": 3,
   "id": "4ecd901a-ee12-44fd-a5d8-f666696d7c09",
   "metadata": {},
   "outputs": [
    {
     "name": "stdin",
     "output_type": "stream",
     "text": [
      "Enter the string: (1+(4+5+2)-3)+(6+8)\n"
     ]
    },
    {
     "name": "stdout",
     "output_type": "stream",
     "text": [
      "23\n"
     ]
    }
   ],
   "source": [
    "# Implement infix expression using stack\n",
    "def evaluate(expression):\n",
    "    stack=[]\n",
    "    num=0\n",
    "    result=0\n",
    "    sign=1 # 1 means + and -1 means -\n",
    "    for ch in expression:\n",
    "        if ch.isdigit():\n",
    "            num=num*10+int(ch)\n",
    "        elif ch in \"+-\":\n",
    "            result+=sign*num\n",
    "            num=0          \n",
    "            sign=1 if ch=='+' else -1\n",
    "        elif ch=='(':\n",
    "            # save the result and sign\n",
    "            stack.append(result)\n",
    "            stack.append(sign)\n",
    "            result=0\n",
    "            sign=1\n",
    "        elif ch==')':\n",
    "            result+=sign*num\n",
    "            num=0\n",
    "            result*=stack.pop() #last sign\n",
    "            result+=stack.pop() #last result\n",
    "    return result+sign*num\n",
    "if __name__==\"__main__\":\n",
    "    str=input(\"Enter the string:\")\n",
    "    print(evaluate(str))"
   ]
  },
  {
   "cell_type": "markdown",
   "id": "c589fabb-ba7e-40d6-be12-b99bb74d8b27",
   "metadata": {},
   "source": [
    "Queue"
   ]
  },
  {
   "cell_type": "code",
   "execution_count": 36,
   "id": "54d42ad1-f0ce-4799-a89b-7db991dce0f6",
   "metadata": {},
   "outputs": [
    {
     "name": "stdout",
     "output_type": "stream",
     "text": [
      "10\n",
      "20\n",
      "20\n",
      "30\n",
      "1\n"
     ]
    }
   ],
   "source": [
    "# List based queue implementation\n",
    "class Queue:\n",
    "    def __init__(self):\n",
    "        self.queue=[]\n",
    "    def enqueue(self,item):\n",
    "        self.queue.append(item) #O(1)\n",
    "    def dequeue(self):\n",
    "        if self.is_empty():\n",
    "            raise IndexError(\"Dequeue from empty queue\")\n",
    "        return self.queue.pop(0)\n",
    "    def peek(self):\n",
    "        if self.is_empty():\n",
    "            raise IndexError(\"Peek from empty queue\")\n",
    "        return self.queue[0]\n",
    "    def is_empty(self):\n",
    "        return len(self.queue)==0\n",
    "    def size(self):\n",
    "        return len(self.queue)\n",
    "arr=Queue()\n",
    "arr.enqueue(10)\n",
    "arr.enqueue(20)\n",
    "arr.enqueue(30)\n",
    "print(arr.dequeue())\n",
    "print(arr.peek())\n",
    "print(arr.dequeue())\n",
    "print(arr.peek())\n",
    "print(arr.size())"
   ]
  },
  {
   "cell_type": "code",
   "execution_count": 48,
   "id": "754e9588-2388-44fd-a672-52288bfd8512",
   "metadata": {},
   "outputs": [
    {
     "name": "stdout",
     "output_type": "stream",
     "text": [
      "10\n",
      "10\n",
      "20\n"
     ]
    }
   ],
   "source": [
    "# Linked list based queue implementation\n",
    "class Node: \n",
    "    def __init__(self,value):\n",
    "        self.value=value\n",
    "        self.next=None\n",
    "class Queue:\n",
    "    def __init__(self):\n",
    "        self.front=None\n",
    "        self.rear=None\n",
    "        self._size=0\n",
    "    def enqueue(self,item):\n",
    "        new_node=Node(item)\n",
    "        if self.rear is None:\n",
    "            self.front=self.rear=new_node\n",
    "        else:\n",
    "            self.rear.next=new_node\n",
    "            self.rear=new_node\n",
    "            self._size+=1\n",
    "    def dequeue(self):\n",
    "        if self.is_empty():\n",
    "            raise IndexError(\"Dequeue from empty list\")\n",
    "        item=self.front.value\n",
    "        self.front=self.front.next\n",
    "        if self.front is None:\n",
    "            self.rear=None\n",
    "        self._size-=1\n",
    "        return item\n",
    "    def peek(self):\n",
    "        if self.is_empty():\n",
    "            raise IndexError(\"Peek from empty list\")\n",
    "        return self.front.value\n",
    "    def is_empty(self):\n",
    "        return self.front is None\n",
    "    def size(self):\n",
    "        return self._size\n",
    "q=Queue()\n",
    "q.enqueue(10)\n",
    "q.enqueue(20)\n",
    "q.enqueue(30)\n",
    "print(q.peek())\n",
    "print(q.dequeue())\n",
    "print(q.peek())"
   ]
  },
  {
   "cell_type": "markdown",
   "id": "f2c9c8d0-0a29-45e7-b0ff-f8ed6ff0d81e",
   "metadata": {},
   "source": [
    "Hashing"
   ]
  },
  {
   "cell_type": "code",
   "execution_count": 12,
   "id": "b71eaa7b-b1fe-4f19-a9df-d64e5d85b258",
   "metadata": {},
   "outputs": [
    {
     "name": "stdin",
     "output_type": "stream",
     "text": [
      "Enter the number of elements to be entered into the array: 5\n",
      "Enter the element to be entered into the array: 0\n",
      "Enter the element to be entered into the array: -1\n",
      "Enter the element to be entered into the array: 2\n",
      "Enter the element to be entered into the array: -3\n",
      "Enter the element to be entered into the array: 1\n"
     ]
    },
    {
     "name": "stdout",
     "output_type": "stream",
     "text": [
      "The formed array is: [0, -1, 2, -3, 1]\n"
     ]
    },
    {
     "name": "stdin",
     "output_type": "stream",
     "text": [
      "Enter the sum value: -2\n"
     ]
    },
    {
     "name": "stdout",
     "output_type": "stream",
     "text": [
      "The pair exists in the array\n"
     ]
    }
   ],
   "source": [
    "# https://www.geeksforgeeks.org/check-if-pair-with-given-sum-exists-in-array/\n",
    "def sum_check(a,s):\n",
    "    st=set()\n",
    "    for i in a:\n",
    "        complement=s-i\n",
    "        if complement in st:\n",
    "           return True\n",
    "        st.add(i)\n",
    "    return False\n",
    "if __name__=='__main__':\n",
    "    n=int(input(\"Enter the number of elements to be entered into the array:\"))\n",
    "    a=[]\n",
    "    for i in range(n):\n",
    "        x=int(input(\"Enter the element to be entered into the array:\"))\n",
    "        a.append(x)\n",
    "    print(\"The formed array is: \"+ str(a))\n",
    "    s=int(input(\"Enter the sum value:\"))\n",
    "    if sum_check(a,s):\n",
    "        print(\"The pair exists in the array\")\n",
    "    else:\n",
    "        print(\"The pair does not exists in the array\")"
   ]
  },
  {
   "cell_type": "code",
   "execution_count": 1,
   "id": "8cdb9ad4-7799-4424-ac4a-1d073ebd2c90",
   "metadata": {},
   "outputs": [
    {
     "name": "stdin",
     "output_type": "stream",
     "text": [
      "Enter the number of elements that you want to enter into the array: 5\n",
      "Enter the element that you want to enter into the linked list: 2\n",
      "Enter the element that you want to enter into the linked list: 7\n",
      "Enter the element that you want to enter into the linked list: 1\n",
      "Enter the element that you want to enter into the linked list: 4\n",
      "Enter the element that you want to enter into the linked list: 8\n"
     ]
    },
    {
     "name": "stdout",
     "output_type": "stream",
     "text": [
      "The formed array is:  [2, 7, 1, 4, 8]\n"
     ]
    },
    {
     "name": "stdin",
     "output_type": "stream",
     "text": [
      "Enter the target: 9\n"
     ]
    },
    {
     "name": "stdout",
     "output_type": "stream",
     "text": [
      "The indices of the element whose sum add up to 9 is [0, 1]\n"
     ]
    }
   ],
   "source": [
    "# Program to find the indices of the number so that they add up to the target\n",
    "def sum_check(arr,target):\n",
    "    num_map={}\n",
    "    for i,num in enumerate(arr):\n",
    "        complement=target-num\n",
    "        if complement in num_map:\n",
    "            return [num_map[complement],i]\n",
    "        num_map[num]=i\n",
    "    return []\n",
    "if __name__==\"__main__\":\n",
    "    arr=[]\n",
    "    n=int(input(\"Enter the number of elements that you want to enter into the array:\"))\n",
    "    for i in range(n):\n",
    "        x=int(input(\"Enter the element that you want to enter into the linked list:\"))\n",
    "        arr.append(x)\n",
    "    print(\"The formed array is: \",arr)\n",
    "    target=int(input(\"Enter the target:\"))\n",
    "    result=sum_check(arr,target)\n",
    "    print(f\"The indices of the element whose sum add up to {target} is {result}\")"
   ]
  },
  {
   "cell_type": "markdown",
   "id": "4eedb060-9ba2-4d39-822e-803c4ed0cde3",
   "metadata": {},
   "source": [
    "Tree data structure in Python"
   ]
  },
  {
   "cell_type": "code",
   "execution_count": 1,
   "id": "42117ce6-d050-4265-ad73-9d84d725dd36",
   "metadata": {},
   "outputs": [
    {
     "name": "stdout",
     "output_type": "stream",
     "text": [
      "Inorder traversal: \n",
      "20 30 40 50 60 70 80 \n",
      "Preorder traversal: \n",
      "50 30 20 40 70 60 80 \n",
      "Postorder traversal: \n",
      "20 40 30 60 80 70 50 \n",
      "Delete 20:\n",
      "30 40 50 60 70 80 \n",
      "Search for 60:\n",
      "Found\n"
     ]
    }
   ],
   "source": [
    "# Implementation of Tree data structure in Python\n",
    "class TreeNode:\n",
    "    def __init__(self,value):\n",
    "        self.value=value\n",
    "        self.left=None\n",
    "        self.right=None\n",
    "def insert(root,value):\n",
    "    if root is None:\n",
    "        return TreeNode(value)\n",
    "    if value<root.value:\n",
    "        root.left=insert(root.left,value)\n",
    "    else:\n",
    "        root.right=insert(root.right,value)\n",
    "    return root\n",
    "#In order traversal (Left-Root-Right)\n",
    "def inorder(root):\n",
    "    if root:\n",
    "        inorder(root.left)\n",
    "        print(root.value,end=' ')\n",
    "        inorder(root.right)\n",
    "#Pre order traversal (Root-Left-Right)\n",
    "def preorder(root):\n",
    "    if root:\n",
    "        print(root.value,end=' ')\n",
    "        preorder(root.left)\n",
    "        preorder(root.right)\n",
    "#Post order traversal (Left-Right-Root)\n",
    "def postorder(root):\n",
    "    if root:\n",
    "        postorder(root.left)\n",
    "        postorder(root.right)\n",
    "        print(root.value,end=' ')\n",
    "def search(root,key):\n",
    "    if root is None or root.value==key:\n",
    "        return root\n",
    "    if key<root.value:\n",
    "        return search(root.left,key)\n",
    "    return search(root.right,key)\n",
    "def find_min(root):\n",
    "    while root.left:\n",
    "        root=root.left\n",
    "    return root.value\n",
    "def delete_node(root,key):\n",
    "    if root is None:\n",
    "        return None\n",
    "    if key<root.value:\n",
    "        root.left=delete_node(root.left,key)\n",
    "    elif key>root.value:\n",
    "        root.right=delete_node(root.right,key)\n",
    "    else:\n",
    "        if root.left is None: #If the delete node has right child\n",
    "            return root.right\n",
    "        elif root.right is None:\n",
    "            return root.left\n",
    "        min_val=find_min(root.right)\n",
    "        root.value=min_val\n",
    "        root.right=delete_node(root.right,min_val)\n",
    "    return root\n",
    "#Example Usage\n",
    "root=None\n",
    "for value in [50, 30, 70, 20, 40, 60, 80]:\n",
    "    root=insert(root,value)\n",
    "print(\"Inorder traversal: \")\n",
    "inorder(root)\n",
    "print(\"\\nPreorder traversal: \")\n",
    "preorder(root)\n",
    "print(\"\\nPostorder traversal: \")\n",
    "postorder(root)\n",
    "print(\"\\nDelete 20:\")\n",
    "root=delete_node(root,20)\n",
    "inorder(root)\n",
    "print(\"\\nSearch for 60:\")\n",
    "node=search(root,60)\n",
    "print(\"Found\" if node else \"No Found\")"
   ]
  },
  {
   "cell_type": "markdown",
   "id": "a3c728f9-56ac-4d76-82f4-f2a16e0a4c83",
   "metadata": {},
   "source": [
    "Graph data structure in Python"
   ]
  },
  {
   "cell_type": "code",
   "execution_count": 8,
   "id": "0774c9a4-fab4-4800-ad2b-17427edbfbaf",
   "metadata": {},
   "outputs": [
    {
     "name": "stdout",
     "output_type": "stream",
     "text": [
      "{'A': ['B', 'C'], 'B': ['A', 'D'], 'C': ['A', 'D'], 'D': ['B', 'C']}\n",
      "A--> ['B', 'C']\n",
      "B--> ['A', 'D']\n",
      "C--> ['A', 'D']\n",
      "D--> ['B', 'C']\n"
     ]
    }
   ],
   "source": [
    "# Non directed graph implementation in Python\n",
    "class UndirectedGraph:\n",
    "    def __init__(self):\n",
    "        self.graph={}\n",
    "    def add_vertex(self,vertex):\n",
    "        # vertex identifiers should be unique\n",
    "        if vertex not in self.graph:\n",
    "            self.graph[vertex]=[]\n",
    "    def add_edge(self,u,v):\n",
    "        self.add_vertex(u)\n",
    "        self.add_vertex(v)\n",
    "        self.graph[u].append(v)\n",
    "        self.graph[v].append(u) #This line makes it undirected\n",
    "    def display(self):\n",
    "        print(self.graph)\n",
    "        for vertex in self.graph:\n",
    "            print(f\"{vertex}-->\",self.graph[vertex])\n",
    "g=UndirectedGraph()\n",
    "g.add_edge('A','B')\n",
    "g.add_edge('A','C')\n",
    "g.add_edge('B','D')\n",
    "g.add_edge('C','D')\n",
    "g.display()"
   ]
  },
  {
   "cell_type": "code",
   "execution_count": 10,
   "id": "76b84847-7692-4b8a-84b7-2728c373b5b1",
   "metadata": {},
   "outputs": [
    {
     "name": "stdout",
     "output_type": "stream",
     "text": [
      "{'A': ['B', 'C'], 'B': ['D'], 'C': ['D'], 'D': []}\n",
      "A--> ['B', 'C']\n",
      "B--> ['D']\n",
      "C--> ['D']\n",
      "D--> []\n"
     ]
    }
   ],
   "source": [
    "# Directed graph implementation in Python\n",
    "class DirectedGraph:\n",
    "    def __init__(self):\n",
    "        self.graph={}\n",
    "    def add_vertex(self,vertex):\n",
    "        if vertex not in self.graph:\n",
    "            self.graph[vertex]=[]\n",
    "    def add_edge(self,u,v):\n",
    "        self.add_vertex(u)\n",
    "        self.add_vertex(v)\n",
    "        self.graph[u].append(v)\n",
    "    def display(self):\n",
    "        print(self.graph)\n",
    "        for vertex in self.graph:\n",
    "            print(f\"{vertex}-->\",self.graph[vertex])\n",
    "g=DirectedGraph()\n",
    "g.add_edge('A','B')\n",
    "g.add_edge('A','C')\n",
    "g.add_edge('B','D')\n",
    "g.add_edge('C','D')\n",
    "g.display()"
   ]
  },
  {
   "cell_type": "code",
   "execution_count": 22,
   "id": "9e28b583-1b63-4872-9580-c717ef3e8c1a",
   "metadata": {},
   "outputs": [
    {
     "name": "stdout",
     "output_type": "stream",
     "text": [
      "Breadth First Search:\n",
      "A B C D E F \n",
      "Depth First Search\n",
      "A B D C E F "
     ]
    }
   ],
   "source": [
    "#Breath first search implementation in Python\n",
    "from collections import deque\n",
    "graph = {\n",
    "    'A': ['B', 'C'],\n",
    "    'B': ['A', 'D'],\n",
    "    'C': ['A', 'E'],\n",
    "    'D': ['B'],\n",
    "    'E': ['C', 'F'],\n",
    "    'F': ['E']\n",
    "}\n",
    "def bfs(graph,start):\n",
    "    visited=set()\n",
    "    queue=deque([start])\n",
    "    while queue:\n",
    "        node=queue.popleft()\n",
    "        if node not in visited:\n",
    "            print(node,end=\" \")\n",
    "            visited.add(node)\n",
    "            queue.extend(neighbor for neighbor in graph[node] if neighbor not in visited)\n",
    "print(\"Breadth First Search:\")\n",
    "bfs(graph,'A')\n",
    "\n",
    "#Depth first search implementation in Python\n",
    "def dfs(graph,node,visited=None):\n",
    "    if visited is None:\n",
    "        visited=set()\n",
    "    if node not in visited:\n",
    "        print(node,end=\" \")\n",
    "        visited.add(node)\n",
    "        for neighbor in graph[node]:\n",
    "            dfs(graph,neighbor,visited)\n",
    "print(\"\\nDepth First Search\")\n",
    "dfs(graph,'A')"
   ]
  },
  {
   "cell_type": "code",
   "execution_count": null,
   "id": "30ac80fa-8095-4d2c-9a5d-71896bf2cf51",
   "metadata": {},
   "outputs": [],
   "source": []
  }
 ],
 "metadata": {
  "kernelspec": {
   "display_name": "Python [conda env:base] *",
   "language": "python",
   "name": "conda-base-py"
  },
  "language_info": {
   "codemirror_mode": {
    "name": "ipython",
    "version": 3
   },
   "file_extension": ".py",
   "mimetype": "text/x-python",
   "name": "python",
   "nbconvert_exporter": "python",
   "pygments_lexer": "ipython3",
   "version": "3.12.7"
  }
 },
 "nbformat": 4,
 "nbformat_minor": 5
}
